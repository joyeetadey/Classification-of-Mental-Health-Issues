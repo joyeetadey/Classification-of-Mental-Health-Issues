{
 "cells": [
  {
   "cell_type": "code",
   "execution_count": 158,
   "metadata": {
    "execution": {
     "iopub.execute_input": "2021-12-11T09:30:33.116106Z",
     "iopub.status.busy": "2021-12-11T09:30:33.115588Z",
     "iopub.status.idle": "2021-12-11T09:30:33.120567Z",
     "shell.execute_reply": "2021-12-11T09:30:33.119852Z",
     "shell.execute_reply.started": "2021-12-11T09:30:33.116069Z"
    },
    "id": "jp1XWVr9bHpu"
   },
   "outputs": [],
   "source": [
    "import numpy as np\n",
    "import pandas as pd\n",
    "import matplotlib.pyplot as plt\n",
    "import re\n",
    "from keras.models import Sequential\n",
    "from keras.layers import Embedding, Bidirectional, LSTM, GRU, Dense, GlobalMaxPool1D"
   ]
  },
  {
   "cell_type": "markdown",
   "metadata": {
    "id": "4aDYiH3wb0VE"
   },
   "source": [
    "## Loading and Preprocessing of the Dataset"
   ]
  },
  {
   "cell_type": "markdown",
   "metadata": {
    "id": "FE--8lGPbHp4"
   },
   "source": [
    "The dataset used for the project is then loaded from the csv file into a pandas dataframe."
   ]
  },
  {
   "cell_type": "code",
   "execution_count": 2,
   "metadata": {
    "execution": {
     "iopub.execute_input": "2021-12-11T09:30:33.123235Z",
     "iopub.status.busy": "2021-12-11T09:30:33.122641Z",
     "iopub.status.idle": "2021-12-11T09:30:33.172354Z",
     "shell.execute_reply": "2021-12-11T09:30:33.171642Z",
     "shell.execute_reply.started": "2021-12-11T09:30:33.123197Z"
    },
    "id": "5Rh2U1x0bHp7"
   },
   "outputs": [],
   "source": [
    "counseldf = pd.read_csv('/content/counselchat-data.csv')"
   ]
  },
  {
   "cell_type": "markdown",
   "metadata": {
    "id": "F_1njmSFbHp8"
   },
   "source": [
    "The below function prints the columns available within the dataset."
   ]
  },
  {
   "cell_type": "code",
   "execution_count": 3,
   "metadata": {
    "colab": {
     "base_uri": "https://localhost:8080/"
    },
    "execution": {
     "iopub.execute_input": "2021-12-11T09:30:33.173887Z",
     "iopub.status.busy": "2021-12-11T09:30:33.173539Z",
     "iopub.status.idle": "2021-12-11T09:30:33.179191Z",
     "shell.execute_reply": "2021-12-11T09:30:33.178475Z",
     "shell.execute_reply.started": "2021-12-11T09:30:33.173848Z"
    },
    "id": "zedw31o5bHp9",
    "outputId": "4898a6a8-a310-4b49-c8a3-538f8dfa7bf6"
   },
   "outputs": [
    {
     "name": "stdout",
     "output_type": "stream",
     "text": [
      "Index(['questionID', 'questionTitle', 'questionText', 'questionUrl', 'topics',\n",
      "       'therapistName', 'therapistUrl', 'answerText', 'upvotes'],\n",
      "      dtype='object')\n"
     ]
    }
   ],
   "source": [
    "print(counseldf.columns)"
   ]
  },
  {
   "cell_type": "markdown",
   "metadata": {
    "id": "n9ccFoRHbHp-"
   },
   "source": [
    "Below the first 5 samples within the dataset are displayed."
   ]
  },
  {
   "cell_type": "code",
   "execution_count": 4,
   "metadata": {
    "colab": {
     "base_uri": "https://localhost:8080/",
     "height": 539
    },
    "execution": {
     "iopub.execute_input": "2021-12-11T09:30:33.181141Z",
     "iopub.status.busy": "2021-12-11T09:30:33.180708Z",
     "iopub.status.idle": "2021-12-11T09:30:33.204313Z",
     "shell.execute_reply": "2021-12-11T09:30:33.203456Z",
     "shell.execute_reply.started": "2021-12-11T09:30:33.181091Z"
    },
    "id": "b0VHcVK0bHqA",
    "outputId": "9744a9a7-b98f-40b1-cdee-fae7e0d1922f"
   },
   "outputs": [
    {
     "data": {
      "text/html": [
       "<div>\n",
       "<style scoped>\n",
       "    .dataframe tbody tr th:only-of-type {\n",
       "        vertical-align: middle;\n",
       "    }\n",
       "\n",
       "    .dataframe tbody tr th {\n",
       "        vertical-align: top;\n",
       "    }\n",
       "\n",
       "    .dataframe thead th {\n",
       "        text-align: right;\n",
       "    }\n",
       "</style>\n",
       "<table border=\"1\" class=\"dataframe\">\n",
       "  <thead>\n",
       "    <tr style=\"text-align: right;\">\n",
       "      <th></th>\n",
       "      <th>questionID</th>\n",
       "      <th>questionTitle</th>\n",
       "      <th>questionText</th>\n",
       "      <th>questionUrl</th>\n",
       "      <th>topics</th>\n",
       "      <th>therapistName</th>\n",
       "      <th>therapistUrl</th>\n",
       "      <th>answerText</th>\n",
       "      <th>upvotes</th>\n",
       "    </tr>\n",
       "  </thead>\n",
       "  <tbody>\n",
       "    <tr>\n",
       "      <th>0</th>\n",
       "      <td>5566fab2a64752d71ec3ca69</td>\n",
       "      <td>Escalating disagreements between mother and wife</td>\n",
       "      <td>My wife and mother are having tense disagreeme...</td>\n",
       "      <td>https://counselchat.com/questions/escalating-d...</td>\n",
       "      <td>Family Conflict</td>\n",
       "      <td>Kristi King-Morgan, LMSW</td>\n",
       "      <td>https://counselchat.com/therapists/kristi-king...</td>\n",
       "      <td>&lt;p&gt;What you are describing is something psycho...</td>\n",
       "      <td>0</td>\n",
       "    </tr>\n",
       "    <tr>\n",
       "      <th>1</th>\n",
       "      <td>5566f94fa64752d71ec3ca64</td>\n",
       "      <td>I'm addicted to smoking. How can I stop?</td>\n",
       "      <td>I'm planning to have baby, so I have to quit s...</td>\n",
       "      <td>https://counselchat.com/questions/i-m-addicted...</td>\n",
       "      <td>Substance Abuse,Addiction</td>\n",
       "      <td>Rebecca Duellman</td>\n",
       "      <td>https://counselchat.com/therapists/rebecca-due...</td>\n",
       "      <td>&lt;p&gt;Hi. Good for you in planning ahead to do wh...</td>\n",
       "      <td>0</td>\n",
       "    </tr>\n",
       "    <tr>\n",
       "      <th>2</th>\n",
       "      <td>5567d26887a1cc0c3f3d8f46</td>\n",
       "      <td>Keeping secrets from my family</td>\n",
       "      <td>I have secrets in my mind, and I don't know wh...</td>\n",
       "      <td>https://counselchat.com/questions/keeping-secr...</td>\n",
       "      <td>Family Conflict</td>\n",
       "      <td>Jeevna Bajaj</td>\n",
       "      <td>https://counselchat.com/therapists/jeevna-bajaj</td>\n",
       "      <td>&lt;p&gt;It sounds like keeping the secrets has beco...</td>\n",
       "      <td>0</td>\n",
       "    </tr>\n",
       "    <tr>\n",
       "      <th>3</th>\n",
       "      <td>556bed15c969ba5861709df5</td>\n",
       "      <td>The Underlying Causes of Being Possessive</td>\n",
       "      <td>I am extremely possessive in my relationships ...</td>\n",
       "      <td>https://counselchat.com/questions/the-underlyi...</td>\n",
       "      <td>Behavioral Change,Social Relationships</td>\n",
       "      <td>Rebecca Duellman</td>\n",
       "      <td>https://counselchat.com/therapists/rebecca-due...</td>\n",
       "      <td>&lt;p&gt;Hi there. It's great you are able to realiz...</td>\n",
       "      <td>0</td>\n",
       "    </tr>\n",
       "    <tr>\n",
       "      <th>4</th>\n",
       "      <td>556ba115c969ba5861709de6</td>\n",
       "      <td>Can I control anxiety without medication?</td>\n",
       "      <td>I had a head injury a few years ago and my min...</td>\n",
       "      <td>https://counselchat.com/questions/can-i-contro...</td>\n",
       "      <td>Anxiety</td>\n",
       "      <td>Rebecca Duellman</td>\n",
       "      <td>https://counselchat.com/therapists/rebecca-due...</td>\n",
       "      <td>&lt;p&gt;You didn't say what or how many medications...</td>\n",
       "      <td>0</td>\n",
       "    </tr>\n",
       "  </tbody>\n",
       "</table>\n",
       "</div>"
      ],
      "text/plain": [
       "                 questionID  ... upvotes\n",
       "0  5566fab2a64752d71ec3ca69  ...       0\n",
       "1  5566f94fa64752d71ec3ca64  ...       0\n",
       "2  5567d26887a1cc0c3f3d8f46  ...       0\n",
       "3  556bed15c969ba5861709df5  ...       0\n",
       "4  556ba115c969ba5861709de6  ...       0\n",
       "\n",
       "[5 rows x 9 columns]"
      ]
     },
     "execution_count": 4,
     "metadata": {},
     "output_type": "execute_result"
    }
   ],
   "source": [
    "counseldf.head()"
   ]
  },
  {
   "cell_type": "markdown",
   "metadata": {
    "id": "e4IFgqkVbHqB"
   },
   "source": [
    "As the dataset contains some columns with personal information about the therapist, those columns are removed. Moreover, for the purposes of this project the only relevant columns are 'questionText' and 'topics'. Hence all other columns except those are removed before further processing."
   ]
  },
  {
   "cell_type": "code",
   "execution_count": 5,
   "metadata": {
    "execution": {
     "iopub.execute_input": "2021-12-11T09:30:33.207166Z",
     "iopub.status.busy": "2021-12-11T09:30:33.206883Z",
     "iopub.status.idle": "2021-12-11T09:30:33.218059Z",
     "shell.execute_reply": "2021-12-11T09:30:33.217017Z",
     "shell.execute_reply.started": "2021-12-11T09:30:33.207128Z"
    },
    "id": "sLj8AazqbHqE"
   },
   "outputs": [],
   "source": [
    "counseldf.drop(['questionID', 'questionTitle', 'questionUrl', 'therapistName', 'therapistUrl','answerText', 'upvotes'], axis = 1, inplace=True)"
   ]
  },
  {
   "cell_type": "code",
   "execution_count": 6,
   "metadata": {
    "colab": {
     "base_uri": "https://localhost:8080/",
     "height": 206
    },
    "execution": {
     "iopub.execute_input": "2021-12-11T09:30:33.219993Z",
     "iopub.status.busy": "2021-12-11T09:30:33.219699Z",
     "iopub.status.idle": "2021-12-11T09:30:33.232682Z",
     "shell.execute_reply": "2021-12-11T09:30:33.231916Z",
     "shell.execute_reply.started": "2021-12-11T09:30:33.219954Z"
    },
    "id": "TjnVajClbHqH",
    "outputId": "b465481e-2aee-4a0c-cf47-84d6b95e8f2a",
    "scrolled": true
   },
   "outputs": [
    {
     "data": {
      "text/html": [
       "<div>\n",
       "<style scoped>\n",
       "    .dataframe tbody tr th:only-of-type {\n",
       "        vertical-align: middle;\n",
       "    }\n",
       "\n",
       "    .dataframe tbody tr th {\n",
       "        vertical-align: top;\n",
       "    }\n",
       "\n",
       "    .dataframe thead th {\n",
       "        text-align: right;\n",
       "    }\n",
       "</style>\n",
       "<table border=\"1\" class=\"dataframe\">\n",
       "  <thead>\n",
       "    <tr style=\"text-align: right;\">\n",
       "      <th></th>\n",
       "      <th>questionText</th>\n",
       "      <th>topics</th>\n",
       "    </tr>\n",
       "  </thead>\n",
       "  <tbody>\n",
       "    <tr>\n",
       "      <th>0</th>\n",
       "      <td>My wife and mother are having tense disagreeme...</td>\n",
       "      <td>Family Conflict</td>\n",
       "    </tr>\n",
       "    <tr>\n",
       "      <th>1</th>\n",
       "      <td>I'm planning to have baby, so I have to quit s...</td>\n",
       "      <td>Substance Abuse,Addiction</td>\n",
       "    </tr>\n",
       "    <tr>\n",
       "      <th>2</th>\n",
       "      <td>I have secrets in my mind, and I don't know wh...</td>\n",
       "      <td>Family Conflict</td>\n",
       "    </tr>\n",
       "    <tr>\n",
       "      <th>3</th>\n",
       "      <td>I am extremely possessive in my relationships ...</td>\n",
       "      <td>Behavioral Change,Social Relationships</td>\n",
       "    </tr>\n",
       "    <tr>\n",
       "      <th>4</th>\n",
       "      <td>I had a head injury a few years ago and my min...</td>\n",
       "      <td>Anxiety</td>\n",
       "    </tr>\n",
       "  </tbody>\n",
       "</table>\n",
       "</div>"
      ],
      "text/plain": [
       "                                        questionText                                  topics\n",
       "0  My wife and mother are having tense disagreeme...                         Family Conflict\n",
       "1  I'm planning to have baby, so I have to quit s...               Substance Abuse,Addiction\n",
       "2  I have secrets in my mind, and I don't know wh...                         Family Conflict\n",
       "3  I am extremely possessive in my relationships ...  Behavioral Change,Social Relationships\n",
       "4  I had a head injury a few years ago and my min...                                 Anxiety"
      ]
     },
     "execution_count": 6,
     "metadata": {},
     "output_type": "execute_result"
    }
   ],
   "source": [
    "counseldf.head()"
   ]
  },
  {
   "cell_type": "code",
   "execution_count": 7,
   "metadata": {
    "colab": {
     "base_uri": "https://localhost:8080/"
    },
    "execution": {
     "iopub.execute_input": "2021-12-11T09:30:33.234741Z",
     "iopub.status.busy": "2021-12-11T09:30:33.234146Z",
     "iopub.status.idle": "2021-12-11T09:30:33.242986Z",
     "shell.execute_reply": "2021-12-11T09:30:33.241427Z",
     "shell.execute_reply.started": "2021-12-11T09:30:33.234695Z"
    },
    "id": "UM4QBgs3bHqJ",
    "outputId": "754012a5-c1bb-4af3-cc61-3667d4fcee41"
   },
   "outputs": [
    {
     "data": {
      "text/plain": [
       "(1482, 2)"
      ]
     },
     "execution_count": 7,
     "metadata": {},
     "output_type": "execute_result"
    }
   ],
   "source": [
    "counseldf.shape"
   ]
  },
  {
   "cell_type": "code",
   "execution_count": 8,
   "metadata": {
    "colab": {
     "base_uri": "https://localhost:8080/"
    },
    "execution": {
     "iopub.execute_input": "2021-12-11T09:30:33.245147Z",
     "iopub.status.busy": "2021-12-11T09:30:33.244649Z",
     "iopub.status.idle": "2021-12-11T09:30:33.254948Z",
     "shell.execute_reply": "2021-12-11T09:30:33.253970Z",
     "shell.execute_reply.started": "2021-12-11T09:30:33.245107Z"
    },
    "id": "s8bcAQj3bHqK",
    "outputId": "3e6c3031-fee1-4e4d-824f-028047e81864"
   },
   "outputs": [
    {
     "data": {
      "text/plain": [
       "questionText    99\n",
       "topics          10\n",
       "dtype: int64"
      ]
     },
     "execution_count": 8,
     "metadata": {},
     "output_type": "execute_result"
    }
   ],
   "source": [
    "counseldf.isnull().sum()"
   ]
  },
  {
   "cell_type": "markdown",
   "metadata": {
    "id": "Ro2WO9Z9bHqL"
   },
   "source": [
    "The datset contains some null values in both columns. To avoid the problem created by null values, the samples containing them are simply removed."
   ]
  },
  {
   "cell_type": "code",
   "execution_count": 9,
   "metadata": {
    "execution": {
     "iopub.execute_input": "2021-12-11T09:30:33.256858Z",
     "iopub.status.busy": "2021-12-11T09:30:33.256543Z",
     "iopub.status.idle": "2021-12-11T09:30:33.264676Z",
     "shell.execute_reply": "2021-12-11T09:30:33.263180Z",
     "shell.execute_reply.started": "2021-12-11T09:30:33.256820Z"
    },
    "id": "Qn_TIqWTbHqN"
   },
   "outputs": [],
   "source": [
    "counseldf = counseldf.dropna(axis=0)"
   ]
  },
  {
   "cell_type": "code",
   "execution_count": 10,
   "metadata": {
    "colab": {
     "base_uri": "https://localhost:8080/"
    },
    "execution": {
     "iopub.execute_input": "2021-12-11T09:30:33.268437Z",
     "iopub.status.busy": "2021-12-11T09:30:33.267323Z",
     "iopub.status.idle": "2021-12-11T09:30:33.278831Z",
     "shell.execute_reply": "2021-12-11T09:30:33.276982Z",
     "shell.execute_reply.started": "2021-12-11T09:30:33.268378Z"
    },
    "id": "0MZp8eVCbHqO",
    "outputId": "c48090ff-8594-4462-bf82-39b1e11584fd"
   },
   "outputs": [
    {
     "data": {
      "text/plain": [
       "questionText    0\n",
       "topics          0\n",
       "dtype: int64"
      ]
     },
     "execution_count": 10,
     "metadata": {},
     "output_type": "execute_result"
    }
   ],
   "source": [
    "counseldf.isnull().sum()"
   ]
  },
  {
   "cell_type": "code",
   "execution_count": 11,
   "metadata": {
    "colab": {
     "base_uri": "https://localhost:8080/"
    },
    "execution": {
     "iopub.execute_input": "2021-12-11T09:30:33.285943Z",
     "iopub.status.busy": "2021-12-11T09:30:33.285720Z",
     "iopub.status.idle": "2021-12-11T09:30:33.300352Z",
     "shell.execute_reply": "2021-12-11T09:30:33.299607Z",
     "shell.execute_reply.started": "2021-12-11T09:30:33.285912Z"
    },
    "id": "UrwvBrdYbHqP",
    "outputId": "9b56b9f5-f43a-4218-a85d-63fe992b73a5"
   },
   "outputs": [
    {
     "data": {
      "text/plain": [
       "(1376, 2)"
      ]
     },
     "execution_count": 11,
     "metadata": {},
     "output_type": "execute_result"
    }
   ],
   "source": [
    "counseldf.shape"
   ]
  },
  {
   "cell_type": "markdown",
   "metadata": {
    "id": "29tnwAK2bHqS"
   },
   "source": [
    "Finally, we have the clean dataset which can now be processed with NLP techniques. After removing rows with null values, the size of the dataset remains at 1376 samples.\n",
    "\n",
    "The 'topics' column is the target categories for the samples. As seen in the first few lines, some of the samples contain multiple labels. An LSTM network was tried to train using multiple labels but as the model failed to converge, it was decided that only the first label would be kept as the target label of the sample if it has multiple labels. The below code does just that."
   ]
  },
  {
   "cell_type": "code",
   "execution_count": 12,
   "metadata": {
    "execution": {
     "iopub.execute_input": "2021-12-11T09:30:33.302112Z",
     "iopub.status.busy": "2021-12-11T09:30:33.301742Z",
     "iopub.status.idle": "2021-12-11T09:30:33.330337Z",
     "shell.execute_reply": "2021-12-11T09:30:33.329166Z",
     "shell.execute_reply.started": "2021-12-11T09:30:33.302071Z"
    },
    "id": "SAvC9hydbHqU"
   },
   "outputs": [],
   "source": [
    "counseldf['topics'] = counseldf['topics'].str.split(',')\n",
    "counseldf['topics'] = counseldf['topics'].apply(lambda x: x[0])"
   ]
  },
  {
   "cell_type": "code",
   "execution_count": 13,
   "metadata": {
    "colab": {
     "base_uri": "https://localhost:8080/",
     "height": 206
    },
    "execution": {
     "iopub.execute_input": "2021-12-11T09:30:33.332706Z",
     "iopub.status.busy": "2021-12-11T09:30:33.332077Z",
     "iopub.status.idle": "2021-12-11T09:30:33.351340Z",
     "shell.execute_reply": "2021-12-11T09:30:33.350450Z",
     "shell.execute_reply.started": "2021-12-11T09:30:33.332665Z"
    },
    "id": "hPKUTDl_bHqV",
    "outputId": "63369e8b-9c80-4a7a-bb2c-9eaea4e416de"
   },
   "outputs": [
    {
     "data": {
      "text/html": [
       "<div>\n",
       "<style scoped>\n",
       "    .dataframe tbody tr th:only-of-type {\n",
       "        vertical-align: middle;\n",
       "    }\n",
       "\n",
       "    .dataframe tbody tr th {\n",
       "        vertical-align: top;\n",
       "    }\n",
       "\n",
       "    .dataframe thead th {\n",
       "        text-align: right;\n",
       "    }\n",
       "</style>\n",
       "<table border=\"1\" class=\"dataframe\">\n",
       "  <thead>\n",
       "    <tr style=\"text-align: right;\">\n",
       "      <th></th>\n",
       "      <th>questionText</th>\n",
       "      <th>topics</th>\n",
       "    </tr>\n",
       "  </thead>\n",
       "  <tbody>\n",
       "    <tr>\n",
       "      <th>0</th>\n",
       "      <td>My wife and mother are having tense disagreeme...</td>\n",
       "      <td>Family Conflict</td>\n",
       "    </tr>\n",
       "    <tr>\n",
       "      <th>1</th>\n",
       "      <td>I'm planning to have baby, so I have to quit s...</td>\n",
       "      <td>Substance Abuse</td>\n",
       "    </tr>\n",
       "    <tr>\n",
       "      <th>2</th>\n",
       "      <td>I have secrets in my mind, and I don't know wh...</td>\n",
       "      <td>Family Conflict</td>\n",
       "    </tr>\n",
       "    <tr>\n",
       "      <th>3</th>\n",
       "      <td>I am extremely possessive in my relationships ...</td>\n",
       "      <td>Behavioral Change</td>\n",
       "    </tr>\n",
       "    <tr>\n",
       "      <th>4</th>\n",
       "      <td>I had a head injury a few years ago and my min...</td>\n",
       "      <td>Anxiety</td>\n",
       "    </tr>\n",
       "  </tbody>\n",
       "</table>\n",
       "</div>"
      ],
      "text/plain": [
       "                                        questionText             topics\n",
       "0  My wife and mother are having tense disagreeme...    Family Conflict\n",
       "1  I'm planning to have baby, so I have to quit s...    Substance Abuse\n",
       "2  I have secrets in my mind, and I don't know wh...    Family Conflict\n",
       "3  I am extremely possessive in my relationships ...  Behavioral Change\n",
       "4  I had a head injury a few years ago and my min...            Anxiety"
      ]
     },
     "execution_count": 13,
     "metadata": {},
     "output_type": "execute_result"
    }
   ],
   "source": [
    "counseldf.head()"
   ]
  },
  {
   "cell_type": "code",
   "execution_count": 14,
   "metadata": {
    "colab": {
     "base_uri": "https://localhost:8080/"
    },
    "execution": {
     "iopub.execute_input": "2021-12-11T09:30:33.357466Z",
     "iopub.status.busy": "2021-12-11T09:30:33.356967Z",
     "iopub.status.idle": "2021-12-11T09:30:33.368600Z",
     "shell.execute_reply": "2021-12-11T09:30:33.367849Z",
     "shell.execute_reply.started": "2021-12-11T09:30:33.357395Z"
    },
    "id": "fik7KeuFbHqW",
    "outputId": "4149ec13-d36a-4a68-c8d5-8584063baed9"
   },
   "outputs": [
    {
     "data": {
      "text/plain": [
       "Relationships                246\n",
       "Anxiety                      178\n",
       "Family Conflict              113\n",
       "Depression                    97\n",
       "Marriage                      89\n",
       "Self-esteem                   64\n",
       "Parenting                     59\n",
       "Trauma                        51\n",
       "Human Sexuality               45\n",
       "Behavioral Change             43\n",
       "Intimacy                      42\n",
       "Relationship Dissolution      42\n",
       "Counseling Fundamentals       39\n",
       "Social Relationships          38\n",
       "Anger Management              31\n",
       "Professional Ethics           28\n",
       "Stress                        24\n",
       "LGBTQ                         24\n",
       "Spirituality                  19\n",
       "Addiction                     14\n",
       "Grief and Loss                14\n",
       "Substance Abuse               14\n",
       "Legal & Regulatory            11\n",
       "Diagnosis                     10\n",
       "Sleep Improvement             10\n",
       "Domestic Violence              9\n",
       "Workplace Relationships        8\n",
       "Eating Disorders               4\n",
       "Children & Adolescents         3\n",
       "Military Issues                3\n",
       "Alzheimer's                    2\n",
       "Career Counseling              2\n",
       "Name: topics, dtype: int64"
      ]
     },
     "execution_count": 14,
     "metadata": {},
     "output_type": "execute_result"
    }
   ],
   "source": [
    "counseldf['topics'].value_counts()"
   ]
  },
  {
   "cell_type": "code",
   "execution_count": 15,
   "metadata": {
    "colab": {
     "base_uri": "https://localhost:8080/",
     "height": 593
    },
    "execution": {
     "iopub.execute_input": "2021-12-11T09:30:33.370860Z",
     "iopub.status.busy": "2021-12-11T09:30:33.370095Z",
     "iopub.status.idle": "2021-12-11T09:30:33.952091Z",
     "shell.execute_reply": "2021-12-11T09:30:33.951376Z",
     "shell.execute_reply.started": "2021-12-11T09:30:33.370820Z"
    },
    "id": "AVmDryFNbHqX",
    "outputId": "facfa1ce-d483-4fa9-af6c-fa16b206a3ed"
   },
   "outputs": [
    {
     "data": {
      "image/png": "[encoded data removed]",
      "text/plain": [
       "<Figure size 1440x720 with 1 Axes>"
      ]
     },
     "metadata": {
      "needs_background": "light"
     },
     "output_type": "display_data"
    }
   ],
   "source": [
    "fig, ax = plt.subplots(figsize=(20, 10))\n",
    "counseldf.groupby('topics').agg('count').sort_values('questionText', ascending=False).plot.bar(ax=ax)\n",
    "ax.set_title(\"Number of Patient Questions by Topic\", fontsize=25)\n",
    "ax.set_ylabel(\"Number of Questions\", fontsize=20)\n",
    "ax.set_xlabel(\"Topic\", fontsize=20)\n",
    "ax.set_xticklabels(ax.get_xticklabels(), fontsize=15)\n",
    "plt.tight_layout()\n",
    "plt.show()"
   ]
  },
  {
   "cell_type": "markdown",
   "metadata": {
    "id": "2USbssAmbHqY"
   },
   "source": [
    "After this initial analysis to look at the overall dataset, the 'topics' column could be one-hot encoded so that it is ready for the learning model to take as targets."
   ]
  },
  {
   "cell_type": "code",
   "execution_count": 16,
   "metadata": {
    "colab": {
     "base_uri": "https://localhost:8080/",
     "height": 261
    },
    "execution": {
     "iopub.execute_input": "2021-12-11T09:30:33.953294Z",
     "iopub.status.busy": "2021-12-11T09:30:33.953062Z",
     "iopub.status.idle": "2021-12-11T09:30:33.974211Z",
     "shell.execute_reply": "2021-12-11T09:30:33.973456Z",
     "shell.execute_reply.started": "2021-12-11T09:30:33.953260Z"
    },
    "id": "24hmE7yQbHqZ",
    "outputId": "aa0c7578-c727-410f-eabf-9172c843ab08"
   },
   "outputs": [
    {
     "data": {
      "text/html": [
       "<div>\n",
       "<style scoped>\n",
       "    .dataframe tbody tr th:only-of-type {\n",
       "        vertical-align: middle;\n",
       "    }\n",
       "\n",
       "    .dataframe tbody tr th {\n",
       "        vertical-align: top;\n",
       "    }\n",
       "\n",
       "    .dataframe thead th {\n",
       "        text-align: right;\n",
       "    }\n",
       "</style>\n",
       "<table border=\"1\" class=\"dataframe\">\n",
       "  <thead>\n",
       "    <tr style=\"text-align: right;\">\n",
       "      <th></th>\n",
       "      <th>Addiction</th>\n",
       "      <th>Alzheimer's</th>\n",
       "      <th>Anger Management</th>\n",
       "      <th>Anxiety</th>\n",
       "      <th>Behavioral Change</th>\n",
       "      <th>Career Counseling</th>\n",
       "      <th>Children &amp; Adolescents</th>\n",
       "      <th>Counseling Fundamentals</th>\n",
       "      <th>Depression</th>\n",
       "      <th>Diagnosis</th>\n",
       "      <th>Domestic Violence</th>\n",
       "      <th>Eating Disorders</th>\n",
       "      <th>Family Conflict</th>\n",
       "      <th>Grief and Loss</th>\n",
       "      <th>Human Sexuality</th>\n",
       "      <th>Intimacy</th>\n",
       "      <th>LGBTQ</th>\n",
       "      <th>Legal &amp; Regulatory</th>\n",
       "      <th>Marriage</th>\n",
       "      <th>Military Issues</th>\n",
       "      <th>Parenting</th>\n",
       "      <th>Professional Ethics</th>\n",
       "      <th>Relationship Dissolution</th>\n",
       "      <th>Relationships</th>\n",
       "      <th>Self-esteem</th>\n",
       "      <th>Sleep Improvement</th>\n",
       "      <th>Social Relationships</th>\n",
       "      <th>Spirituality</th>\n",
       "      <th>Stress</th>\n",
       "      <th>Substance Abuse</th>\n",
       "      <th>Trauma</th>\n",
       "      <th>Workplace Relationships</th>\n",
       "    </tr>\n",
       "  </thead>\n",
       "  <tbody>\n",
       "    <tr>\n",
       "      <th>0</th>\n",
       "      <td>0</td>\n",
       "      <td>0</td>\n",
       "      <td>0</td>\n",
       "      <td>0</td>\n",
       "      <td>0</td>\n",
       "      <td>0</td>\n",
       "      <td>0</td>\n",
       "      <td>0</td>\n",
       "      <td>0</td>\n",
       "      <td>0</td>\n",
       "      <td>0</td>\n",
       "      <td>0</td>\n",
       "      <td>1</td>\n",
       "      <td>0</td>\n",
       "      <td>0</td>\n",
       "      <td>0</td>\n",
       "      <td>0</td>\n",
       "      <td>0</td>\n",
       "      <td>0</td>\n",
       "      <td>0</td>\n",
       "      <td>0</td>\n",
       "      <td>0</td>\n",
       "      <td>0</td>\n",
       "      <td>0</td>\n",
       "      <td>0</td>\n",
       "      <td>0</td>\n",
       "      <td>0</td>\n",
       "      <td>0</td>\n",
       "      <td>0</td>\n",
       "      <td>0</td>\n",
       "      <td>0</td>\n",
       "      <td>0</td>\n",
       "    </tr>\n",
       "    <tr>\n",
       "      <th>1</th>\n",
       "      <td>0</td>\n",
       "      <td>0</td>\n",
       "      <td>0</td>\n",
       "      <td>0</td>\n",
       "      <td>0</td>\n",
       "      <td>0</td>\n",
       "      <td>0</td>\n",
       "      <td>0</td>\n",
       "      <td>0</td>\n",
       "      <td>0</td>\n",
       "      <td>0</td>\n",
       "      <td>0</td>\n",
       "      <td>0</td>\n",
       "      <td>0</td>\n",
       "      <td>0</td>\n",
       "      <td>0</td>\n",
       "      <td>0</td>\n",
       "      <td>0</td>\n",
       "      <td>0</td>\n",
       "      <td>0</td>\n",
       "      <td>0</td>\n",
       "      <td>0</td>\n",
       "      <td>0</td>\n",
       "      <td>0</td>\n",
       "      <td>0</td>\n",
       "      <td>0</td>\n",
       "      <td>0</td>\n",
       "      <td>0</td>\n",
       "      <td>0</td>\n",
       "      <td>1</td>\n",
       "      <td>0</td>\n",
       "      <td>0</td>\n",
       "    </tr>\n",
       "    <tr>\n",
       "      <th>2</th>\n",
       "      <td>0</td>\n",
       "      <td>0</td>\n",
       "      <td>0</td>\n",
       "      <td>0</td>\n",
       "      <td>0</td>\n",
       "      <td>0</td>\n",
       "      <td>0</td>\n",
       "      <td>0</td>\n",
       "      <td>0</td>\n",
       "      <td>0</td>\n",
       "      <td>0</td>\n",
       "      <td>0</td>\n",
       "      <td>1</td>\n",
       "      <td>0</td>\n",
       "      <td>0</td>\n",
       "      <td>0</td>\n",
       "      <td>0</td>\n",
       "      <td>0</td>\n",
       "      <td>0</td>\n",
       "      <td>0</td>\n",
       "      <td>0</td>\n",
       "      <td>0</td>\n",
       "      <td>0</td>\n",
       "      <td>0</td>\n",
       "      <td>0</td>\n",
       "      <td>0</td>\n",
       "      <td>0</td>\n",
       "      <td>0</td>\n",
       "      <td>0</td>\n",
       "      <td>0</td>\n",
       "      <td>0</td>\n",
       "      <td>0</td>\n",
       "    </tr>\n",
       "    <tr>\n",
       "      <th>3</th>\n",
       "      <td>0</td>\n",
       "      <td>0</td>\n",
       "      <td>0</td>\n",
       "      <td>0</td>\n",
       "      <td>1</td>\n",
       "      <td>0</td>\n",
       "      <td>0</td>\n",
       "      <td>0</td>\n",
       "      <td>0</td>\n",
       "      <td>0</td>\n",
       "      <td>0</td>\n",
       "      <td>0</td>\n",
       "      <td>0</td>\n",
       "      <td>0</td>\n",
       "      <td>0</td>\n",
       "      <td>0</td>\n",
       "      <td>0</td>\n",
       "      <td>0</td>\n",
       "      <td>0</td>\n",
       "      <td>0</td>\n",
       "      <td>0</td>\n",
       "      <td>0</td>\n",
       "      <td>0</td>\n",
       "      <td>0</td>\n",
       "      <td>0</td>\n",
       "      <td>0</td>\n",
       "      <td>0</td>\n",
       "      <td>0</td>\n",
       "      <td>0</td>\n",
       "      <td>0</td>\n",
       "      <td>0</td>\n",
       "      <td>0</td>\n",
       "    </tr>\n",
       "    <tr>\n",
       "      <th>4</th>\n",
       "      <td>0</td>\n",
       "      <td>0</td>\n",
       "      <td>0</td>\n",
       "      <td>1</td>\n",
       "      <td>0</td>\n",
       "      <td>0</td>\n",
       "      <td>0</td>\n",
       "      <td>0</td>\n",
       "      <td>0</td>\n",
       "      <td>0</td>\n",
       "      <td>0</td>\n",
       "      <td>0</td>\n",
       "      <td>0</td>\n",
       "      <td>0</td>\n",
       "      <td>0</td>\n",
       "      <td>0</td>\n",
       "      <td>0</td>\n",
       "      <td>0</td>\n",
       "      <td>0</td>\n",
       "      <td>0</td>\n",
       "      <td>0</td>\n",
       "      <td>0</td>\n",
       "      <td>0</td>\n",
       "      <td>0</td>\n",
       "      <td>0</td>\n",
       "      <td>0</td>\n",
       "      <td>0</td>\n",
       "      <td>0</td>\n",
       "      <td>0</td>\n",
       "      <td>0</td>\n",
       "      <td>0</td>\n",
       "      <td>0</td>\n",
       "    </tr>\n",
       "  </tbody>\n",
       "</table>\n",
       "</div>"
      ],
      "text/plain": [
       "   Addiction  Alzheimer's  ...  Trauma  Workplace Relationships\n",
       "0          0            0  ...       0                        0\n",
       "1          0            0  ...       0                        0\n",
       "2          0            0  ...       0                        0\n",
       "3          0            0  ...       0                        0\n",
       "4          0            0  ...       0                        0\n",
       "\n",
       "[5 rows x 32 columns]"
      ]
     },
     "execution_count": 16,
     "metadata": {},
     "output_type": "execute_result"
    }
   ],
   "source": [
    "targetdf = pd.get_dummies(counseldf['topics'])\n",
    "targetdf.head()"
   ]
  },
  {
   "cell_type": "markdown",
   "metadata": {
    "id": "dByCDyGqbHqb"
   },
   "source": [
    "Now, finally it is time to apply natural language processing techniques to each of the individual text samples.\n",
    "\n",
    "First, we define a pre-process function."
   ]
  },
  {
   "cell_type": "markdown",
   "metadata": {
    "id": "W4YbdtsBcJIL"
   },
   "source": [
    "## Stopwords Removal and Normalisation"
   ]
  },
  {
   "cell_type": "code",
   "execution_count": 17,
   "metadata": {
    "colab": {
     "base_uri": "https://localhost:8080/"
    },
    "execution": {
     "iopub.execute_input": "2021-12-11T09:36:25.619045Z",
     "iopub.status.busy": "2021-12-11T09:36:25.618298Z",
     "iopub.status.idle": "2021-12-11T09:36:25.632658Z",
     "shell.execute_reply": "2021-12-11T09:36:25.631692Z",
     "shell.execute_reply.started": "2021-12-11T09:36:25.619007Z"
    },
    "id": "ebxywD-YbHqb",
    "outputId": "1ff6295e-61b1-47b7-943a-49651a4c3cd1"
   },
   "outputs": [
    {
     "name": "stdout",
     "output_type": "stream",
     "text": [
      "[nltk_data] Downloading package stopwords to /root/nltk_data...\n",
      "[nltk_data]   Unzipping corpora/stopwords.zip.\n",
      "[nltk_data] Downloading package punkt to /root/nltk_data...\n",
      "[nltk_data]   Unzipping tokenizers/punkt.zip.\n",
      "[nltk_data] Downloading package wordnet to /root/nltk_data...\n",
      "[nltk_data]   Unzipping corpora/wordnet.zip.\n"
     ]
    }
   ],
   "source": [
    "#Preprocess function\n",
    "\n",
    "\n",
    "import nltk, re\n",
    "nltk.download('stopwords')\n",
    "nltk.download('punkt')\n",
    "nltk.download('wordnet')\n",
    "from nltk.corpus import wordnet\n",
    "from nltk.corpus import stopwords\n",
    "from nltk.tokenize import word_tokenize\n",
    "from nltk.stem import WordNetLemmatizer\n",
    "from collections import Counter\n",
    "\n",
    "stop_words = stopwords.words('english')\n",
    "normalizer = WordNetLemmatizer()\n",
    "\n",
    "def get_part_of_speech(word):\n",
    "    probable_part_of_speech = wordnet.synsets(word)\n",
    "    pos_counts = Counter()\n",
    "    pos_counts[\"n\"] = len(  [ item for item in probable_part_of_speech if item.pos()==\"n\"]  )\n",
    "    pos_counts[\"v\"] = len(  [ item for item in probable_part_of_speech if item.pos()==\"v\"]  )\n",
    "    pos_counts[\"a\"] = len(  [ item for item in probable_part_of_speech if item.pos()==\"a\"]  )\n",
    "    pos_counts[\"r\"] = len(  [ item for item in probable_part_of_speech if item.pos()==\"r\"]  )\n",
    "    most_likely_part_of_speech = pos_counts.most_common(1)[0][0]\n",
    "    return most_likely_part_of_speech\n",
    "\n",
    "def preprocess_text(text):\n",
    "    cleaned = re.sub(r'\\W+', ' ', text).lower()\n",
    "    tokenized = word_tokenize(cleaned)\n",
    "    normalized = [normalizer.lemmatize(token, get_part_of_speech(token)) for token in tokenized]\n",
    "    return normalized"
   ]
  },
  {
   "cell_type": "markdown",
   "metadata": {
    "id": "O6LynVkZbHqe"
   },
   "source": [
    "The few cells below show the NLP pre-processing techniques applied to the first samples of text."
   ]
  },
  {
   "cell_type": "code",
   "execution_count": 18,
   "metadata": {
    "colab": {
     "base_uri": "https://localhost:8080/",
     "height": 70
    },
    "execution": {
     "iopub.execute_input": "2021-12-11T09:36:28.567969Z",
     "iopub.status.busy": "2021-12-11T09:36:28.567313Z",
     "iopub.status.idle": "2021-12-11T09:36:28.573200Z",
     "shell.execute_reply": "2021-12-11T09:36:28.572481Z",
     "shell.execute_reply.started": "2021-12-11T09:36:28.567933Z"
    },
    "id": "9pGkytUwbHqe",
    "outputId": "43bd3bb6-7d5a-4c30-8c16-c5b73ff417b9"
   },
   "outputs": [
    {
     "data": {
      "application/vnd.google.colaboratory.intrinsic+json": {
       "type": "string"
      },
      "text/plain": [
       "'My wife and mother are having tense disagreements. In the past, they’ve had minor differences. For example, my wife would complain to me my mother is too overbearing; my mother would complain my wife is lazy.\\r\\nHowever, it’s intensified lately. I think the cause is my wife talked back to her once. Now, any little disagreement is magnified, leading to major disagreements. What can I do?'"
      ]
     },
     "execution_count": 18,
     "metadata": {},
     "output_type": "execute_result"
    }
   ],
   "source": [
    "counseldf['questionText'][0]"
   ]
  },
  {
   "cell_type": "code",
   "execution_count": 19,
   "metadata": {
    "colab": {
     "base_uri": "https://localhost:8080/"
    },
    "execution": {
     "iopub.execute_input": "2021-12-11T09:36:29.138562Z",
     "iopub.status.busy": "2021-12-11T09:36:29.138114Z",
     "iopub.status.idle": "2021-12-11T09:36:29.143658Z",
     "shell.execute_reply": "2021-12-11T09:36:29.142893Z",
     "shell.execute_reply.started": "2021-12-11T09:36:29.138524Z"
    },
    "id": "Dj7HhqkVbHqf",
    "outputId": "bc9ecbfa-3f02-46ee-81a6-c86fcb0bcc14"
   },
   "outputs": [
    {
     "name": "stdout",
     "output_type": "stream",
     "text": [
      "my wife and mother are having tense disagreements in the past they ve had minor differences for example my wife would complain to me my mother is too overbearing my mother would complain my wife is lazy however it s intensified lately i think the cause is my wife talked back to her once now any little disagreement is magnified leading to major disagreements what can i do \n"
     ]
    }
   ],
   "source": [
    "text = counseldf['questionText'][0]\n",
    "cleaned = re.sub(r'\\W+', ' ', text).lower()\n",
    "print(cleaned)"
   ]
  },
  {
   "cell_type": "markdown",
   "metadata": {
    "id": "gBawgkUKcP5L"
   },
   "source": [
    "## Tokenizer"
   ]
  },
  {
   "cell_type": "code",
   "execution_count": 20,
   "metadata": {
    "colab": {
     "base_uri": "https://localhost:8080/"
    },
    "execution": {
     "iopub.execute_input": "2021-12-11T09:36:29.977355Z",
     "iopub.status.busy": "2021-12-11T09:36:29.977105Z",
     "iopub.status.idle": "2021-12-11T09:36:29.982839Z",
     "shell.execute_reply": "2021-12-11T09:36:29.982162Z",
     "shell.execute_reply.started": "2021-12-11T09:36:29.977327Z"
    },
    "id": "lbOHsSGZbHqg",
    "outputId": "fb27ca98-7637-4d3c-97c0-3c33a537907f"
   },
   "outputs": [
    {
     "name": "stdout",
     "output_type": "stream",
     "text": [
      "['my', 'wife', 'and', 'mother', 'are', 'having', 'tense', 'disagreements', 'in', 'the', 'past', 'they', 've', 'had', 'minor', 'differences', 'for', 'example', 'my', 'wife', 'would', 'complain', 'to', 'me', 'my', 'mother', 'is', 'too', 'overbearing', 'my', 'mother', 'would', 'complain', 'my', 'wife', 'is', 'lazy', 'however', 'it', 's', 'intensified', 'lately', 'i', 'think', 'the', 'cause', 'is', 'my', 'wife', 'talked', 'back', 'to', 'her', 'once', 'now', 'any', 'little', 'disagreement', 'is', 'magnified', 'leading', 'to', 'major', 'disagreements', 'what', 'can', 'i', 'do']\n"
     ]
    }
   ],
   "source": [
    "tokenized = word_tokenize(cleaned)\n",
    "print(tokenized)"
   ]
  },
  {
   "cell_type": "markdown",
   "metadata": {
    "id": "Xhqa-uZIcTN2"
   },
   "source": [
    "## normalizer"
   ]
  },
  {
   "cell_type": "code",
   "execution_count": 22,
   "metadata": {
    "colab": {
     "base_uri": "https://localhost:8080/"
    },
    "execution": {
     "iopub.execute_input": "2021-12-11T09:36:30.903959Z",
     "iopub.status.busy": "2021-12-11T09:36:30.903449Z",
     "iopub.status.idle": "2021-12-11T09:36:30.912322Z",
     "shell.execute_reply": "2021-12-11T09:36:30.911481Z",
     "shell.execute_reply.started": "2021-12-11T09:36:30.903918Z"
    },
    "id": "AjXsENnXbHqh",
    "outputId": "7945f9ad-680e-4344-f670-9f19785fb723"
   },
   "outputs": [
    {
     "name": "stdout",
     "output_type": "stream",
     "text": [
      "['my', 'wife', 'and', 'mother', 'be', 'have', 'tense', 'disagreement', 'in', 'the', 'past', 'they', 've', 'have', 'minor', 'difference', 'for', 'example', 'my', 'wife', 'would', 'complain', 'to', 'me', 'my', 'mother', 'be', 'too', 'overbear', 'my', 'mother', 'would', 'complain', 'my', 'wife', 'be', 'lazy', 'however', 'it', 's', 'intensify', 'lately', 'i', 'think', 'the', 'cause', 'be', 'my', 'wife', 'talk', 'back', 'to', 'her', 'once', 'now', 'any', 'little', 'disagreement', 'be', 'magnify', 'lead', 'to', 'major', 'disagreement', 'what', 'can', 'i', 'do']\n"
     ]
    }
   ],
   "source": [
    "normalized = [normalizer.lemmatize(token, get_part_of_speech(token)) for token in tokenized]\n",
    "print(normalized)"
   ]
  },
  {
   "cell_type": "markdown",
   "metadata": {
    "id": "IAeX4r0cbHqh"
   },
   "source": [
    "It is clear from the above few cells what pre-processing does to each of the samples. Below the same process is applied to the entire dataset calling the pre-process function defined above."
   ]
  },
  {
   "cell_type": "markdown",
   "metadata": {
    "id": "qWEmf3Y-cWS6"
   },
   "source": [
    "## Stop words Removal"
   ]
  },
  {
   "cell_type": "code",
   "execution_count": 25,
   "metadata": {
    "execution": {
     "iopub.execute_input": "2021-12-11T09:36:32.487449Z",
     "iopub.status.busy": "2021-12-11T09:36:32.487171Z",
     "iopub.status.idle": "2021-12-11T09:36:36.256963Z",
     "shell.execute_reply": "2021-12-11T09:36:36.256274Z",
     "shell.execute_reply.started": "2021-12-11T09:36:32.487400Z"
    },
    "id": "9swA3aFUbHqi"
   },
   "outputs": [],
   "source": [
    "processed_questionText = counseldf['questionText'].apply(lambda x: preprocess_text(x))"
   ]
  },
  {
   "cell_type": "markdown",
   "metadata": {
    "id": "tXVPGDAIbHqj"
   },
   "source": [
    "After pre-processing, stop words removal can be done to each of the samples."
   ]
  },
  {
   "cell_type": "code",
   "execution_count": 26,
   "metadata": {
    "execution": {
     "iopub.execute_input": "2021-12-11T09:35:53.807502Z",
     "iopub.status.busy": "2021-12-11T09:35:53.807232Z",
     "iopub.status.idle": "2021-12-11T09:35:53.823241Z",
     "shell.execute_reply": "2021-12-11T09:35:53.822393Z",
     "shell.execute_reply.started": "2021-12-11T09:35:53.807471Z"
    },
    "id": "_DSmgdaFbHqj"
   },
   "outputs": [],
   "source": [
    "stop_words = set(stopwords.words('english'))\n",
    "\n",
    "questionText_nostops = []\n",
    "for title in processed_questionText:\n",
    "    text_no_stops = [word for word in title if word not in stop_words]\n",
    "    questionText_nostops.append(text_no_stops)"
   ]
  },
  {
   "cell_type": "markdown",
   "metadata": {
    "id": "tsZ18By0bHqk"
   },
   "source": [
    "Below is the first sample with stop words removed."
   ]
  },
  {
   "cell_type": "code",
   "execution_count": 27,
   "metadata": {
    "colab": {
     "base_uri": "https://localhost:8080/"
    },
    "execution": {
     "iopub.execute_input": "2021-12-11T09:35:55.528504Z",
     "iopub.status.busy": "2021-12-11T09:35:55.528229Z",
     "iopub.status.idle": "2021-12-11T09:35:55.533060Z",
     "shell.execute_reply": "2021-12-11T09:35:55.532349Z",
     "shell.execute_reply.started": "2021-12-11T09:35:55.528475Z"
    },
    "id": "G2gsNrP5bHqk",
    "outputId": "33999ee7-9f89-44f2-baa8-5970e39bd36c"
   },
   "outputs": [
    {
     "name": "stdout",
     "output_type": "stream",
     "text": [
      "['wife', 'mother', 'tense', 'disagreement', 'past', 'minor', 'difference', 'example', 'wife', 'would', 'complain', 'mother', 'overbear', 'mother', 'would', 'complain', 'wife', 'lazy', 'however', 'intensify', 'lately', 'think', 'cause', 'wife', 'talk', 'back', 'little', 'disagreement', 'magnify', 'lead', 'major', 'disagreement']\n"
     ]
    }
   ],
   "source": [
    "print(questionText_nostops[0])"
   ]
  },
  {
   "cell_type": "markdown",
   "metadata": {
    "id": "gVeNsXDXbHql"
   },
   "source": [
    "Finally, with the tokens available for all samples, it is time to create the word-index dictionary for changing the data to numerical values. To do this, Tensorflow's tokenizer class will be used."
   ]
  },
  {
   "cell_type": "code",
   "execution_count": 103,
   "metadata": {
    "colab": {
     "base_uri": "https://localhost:8080/"
    },
    "id": "Da1o7XKJld6Q",
    "outputId": "bada5125-c68c-483a-a1e7-a866b4bba1d2"
   },
   "outputs": [
    {
     "name": "stdout",
     "output_type": "stream",
     "text": [
      "Sample tokenized: [68, 101, 1760, 971, 49, 858, 972, 684, 68, 52, 477, 101, 1761, 101, 52, 477, 68, 859, 165, 1386, 150, 9, 216, 68, 18, 41, 166, 971, 1762, 353, 626, 971]\n",
      "==================================================================================================================\n",
      "\n",
      "Questions max length is 220 words\n",
      "==================================================================================================================\n",
      "\n",
      "Input data shape -> (1376, 220)\n",
      "\n",
      "Input data sample->\n",
      " [  68  101 1760  971   49  858  972  684   68   52  477  101 1761  101\n",
      "   52  477   68  859  165 1386  150    9  216   68   18   41  166  971\n",
      " 1762  353  626  971    0    0    0    0    0    0    0    0    0    0\n",
      "    0    0    0    0    0    0    0    0    0    0    0    0    0    0\n",
      "    0    0    0    0    0    0    0    0    0    0    0    0    0    0\n",
      "    0    0    0    0    0    0    0    0    0    0    0    0    0    0\n",
      "    0    0    0    0    0    0    0    0    0    0    0    0    0    0\n",
      "    0    0    0    0    0    0    0    0    0    0    0    0    0    0\n",
      "    0    0    0    0    0    0    0    0    0    0    0    0    0    0\n",
      "    0    0    0    0    0    0    0    0    0    0    0    0    0    0\n",
      "    0    0    0    0    0    0    0    0    0    0    0    0    0    0\n",
      "    0    0    0    0    0    0    0    0    0    0    0    0    0    0\n",
      "    0    0    0    0    0    0    0    0    0    0    0    0    0    0\n",
      "    0    0    0    0    0    0    0    0    0    0    0    0    0    0\n",
      "    0    0    0    0    0    0    0    0    0    0    0    0    0    0\n",
      "    0    0    0    0    0    0    0    0    0    0]\n",
      "==================================================================================================================\n",
      "\n",
      "Number of Question tokens = 2417\n",
      "\n",
      "Dictionary: {'feel': 1, 'get': 2, 'want': 3, 'like': 4, 'know': 5, 'time': 6, 'go': 7, 'year': 8, 'think': 9, 'say': 10, 'make': 11, 'tell': 12, 'relationship': 13, 'love': 14, 'never': 15, 'really': 16, 'friend': 17, 'talk': 18, 'thing': 19, 'always': 20, 'even': 21, 'work': 22, 'help': 23, 'life': 24, 'boyfriend': 25, 'try': 26, 'find': 27, 'still': 28, 'see': 29, 'one': 30, 'day': 31, 'people': 32, 'need': 33, 'start': 34, 'sex': 35, 'anxiety': 36, 'take': 37, 'family': 38, 'lot': 39, 'month': 40, 'back': 41, 'child': 42, 'much': 43, 'every': 44, 'husband': 45, 'anything': 46, 'stop': 47, 'together': 48, 'past': 49, 'live': 50, 'something': 51, 'would': 52, 'someone': 53, 'leave': 54, 'move': 55, 'problem': 56, 'sometimes': 57, 'two': 58, 'bad': 59, 'school': 60, 'ago': 61, 'lose': 62, 'parent': 63, 'ask': 64, 'also': 65, 'everything': 66, 'girl': 67, 'wife': 68, 'come': 69, 'well': 70, 'keep': 71, 'issue': 72, 'seem': 73, 'break': 74, 'depression': 75, 'cheat': 76, 'dad': 77, 'use': 78, 'happen': 79, 'way': 80, 'wrong': 81, 'stress': 82, 'give': 83, 'away': 84, 'u': 85, 'marry': 86, 'last': 87, 'ex': 88, 'since': 89, 'call': 90, 'guy': 91, 'hurt': 92, 'right': 93, 'normal': 94, 'anymore': 95, 'recently': 96, 'good': 97, 'drink': 98, 'mom': 99, 'night': 100, 'mother': 101, 'end': 102, 'stay': 103, 'date': 104, 'girlfriend': 105, 'home': 106, 'trust': 107, 'woman': 108, 'lie': 109, 'first': 110, 'job': 111, 'cry': 112, 'let': 113, 'deal': 114, 'long': 115, 'believe': 116, 'else': 117, 'week': 118, 'care': 119, 'counseling': 120, 'depress': 121, 'late': 122, 'alone': 123, 'around': 124, 'change': 125, 'happy': 126, 'fight': 127, 'could': 128, 'thought': 129, 'person': 130, 'daughter': 131, 'nothing': 132, 'ever': 133, 'kid': 134, 'afraid': 135, 'angry': 136, 'decide': 137, 'listen': 138, 'without': 139, '20': 140, 'hard': 141, 'meet': 142, 'young': 143, 'couple': 144, 'almost': 145, 'though': 146, 'three': 147, 'felt': 148, 'enough': 149, 'lately': 150, 'win': 151, 'disorder': 152, 'therapy': 153, 'become': 154, 'self': 155, 'men': 156, 'everyone': 157, 'great': 158, 'worry': 159, 'scar': 160, 'therapist': 161, 'attack': 162, 'house': 163, 'understand': 164, 'however': 165, 'little': 166, 'act': 167, 'far': 168, 'new': 169, 'look': 170, 'upset': 171, 'anger': 172, 'sad': 173, 'man': 174, 'mean': 175, 'anyone': 176, 'constantly': 177, 'session': 178, 'mind': 179, 'put': 180, 'abuse': 181, 'forgive': 182, 'best': 183, 'another': 184, 'handle': 185, 'okay': 186, 'teenager': 187, 'voice': 188, 'sleep': 189, 'situation': 190, 'marriage': 191, 'son': 192, 'continue': 193, 'nervous': 194, 'control': 195, '3': 196, 'fiancé': 197, 'five': 198, 'able': 199, 'old': 200, 'phone': 201, 'fear': 202, 'experience': 203, 'counselor': 204, 'many': 205, 'walk': 206, 'decision': 207, 'sure': 208, 'eat': 209, 'reason': 210, 'hate': 211, 'father': 212, 'sexual': 213, 'early': 214, 'four': 215, 'cause': 216, 'miss': 217, 'diagnose': 218, 'head': 219, 'often': 220, 'close': 221, 'divorce': 222, 'spend': 223, 'brother': 224, 'place': 225, 'big': 226, 'plan': 227, 'actually': 228, 'sit': 229, 'nightmare': 230, 'along': 231, 'remember': 232, 'turn': 233, 'guilty': 234, 'word': 235, 'crazy': 236, 'partner': 237, 'tire': 238, 'drive': 239, 'hear': 240, 'personality': 241, 'room': 242, 'heart': 243, 'baby': 244, 'process': 245, 'whenever': 246, 'doctor': 247, 'frustrate': 248, 'others': 249, '30': 250, 'fix': 251, 'learn': 252, 'sister': 253, 'money': 254, 'interest': 255, 'message': 256, 'high': 257, 'client': 258, 'emotion': 259, 'either': 260, 'panic': 261, 'step': 262, 'currently': 263, 'forever': 264, 'gay': 265, 'face': 266, 'alcohol': 267, 'harm': 268, 'emotional': 269, 'addiction': 270, 'hour': 271, 'answer': 272, 'different': 273, 'physically': 274, 'apart': 275, 'kind': 276, 'dog': 277, 'already': 278, 'hit': 279, 'embarrass': 280, 'sleeping': 281, 'order': 282, 'forget': 283, 'boy': 284, 'mad': 285, 'car': 286, 'pain': 287, 'abusive': 288, 'question': 289, 'difficult': 290, 'female': 291, 'attention': 292, 'due': 293, 'show': 294, 'accept': 295, 'medication': 296, 'adult': 297, 'social': 298, 'whole': 299, 'less': 300, 'age': 301, 'terrible': 302, 'virgin': 303, 'everytime': 304, 'shaky': 305, 'emotionally': 306, 'run': 307, 'drug': 308, 'might': 309, 'fine': 310, 'several': 311, 'text': 312, 'fact': 313, 'random': 314, 'lack': 315, 'half': 316, 'matter': 317, 'hopeless': 318, 'saw': 319, 'confuse': 320, 'pretty': 321, 'split': 322, 'stupid': 323, 'push': 324, 'smoking': 325, 'trouble': 326, 'violent': 327, 'horrible': 328, 'instead': 329, 'negative': 330, 'respect': 331, 'enjoy': 332, 'terrify': 333, 'play': 334, 'struggle': 335, 'serious': 336, 'event': 337, 'childhood': 338, '5': 339, 'next': 340, 'throw': 341, 'honestly': 342, 'refuse': 343, 'tear': 344, 'kiss': 345, 'overwhelm': 346, 'attract': 347, 'mess': 348, 'pay': 349, 'weekend': 350, 'seven': 351, 'constant': 352, 'lead': 353, 'sick': 354, 'name': 355, 'straight': 356, 'pregnant': 357, 'kill': 358, '2': 359, 'argument': 360, 'point': 361, 'hang': 362, 'current': 363, 'figure': 364, 'especially': 365, 'die': 366, 'single': 367, 'quit': 368, 'wake': 369, 'low': 370, 'pass': 371, 'cope': 372, 'wall': 373, 'possible': 374, 'paranoid': 375, 'watch': 376, 'approach': 377, 'separate': 378, 'catch': 379, 'admit': 380, 'read': 381, 'agree': 382, 'class': 383, 'bed': 384, 'graduate': 385, 'afford': 386, 'freak': 387, 'terminate': 388, 'completely': 389, 'argue': 390, 'speak': 391, 'dream': 392, 'send': 393, 'twice': 394, 'small': 395, 'advice': 396, 'male': 397, 'comment': 398, 'rap': 399, 'suffer': 400, 'wear': 401, 'touch': 402, 'insecurity': 403, 'real': 404, 'pick': 405, 'distance': 406, 'yet': 407, 'create': 408, 'kick': 409, 'today': 410, 'cut': 411, 'hide': 412, 'grow': 413, 'honest': 414, 'worth': 415, 'fell': 416, 'begin': 417, 'support': 418, 'student': 419, 'promise': 420, 'addict': 421, 'bother': 422, 'yesterday': 423, 'mental': 424, 'body': 425, 'accuse': 426, 'forward': 427, 'please': 428, 'state': 429, 'soon': 430, 'contact': 431, 'second': 432, 'town': 433, 'usually': 434, 'overcome': 435, 'stuff': 436, 'present': 437, 'mid': 438, 'write': 439, 'involve': 440, 'binge': 441, 'suicidal': 442, 'wait': 443, 'daily': 444, 'scream': 445, 'gender': 446, 'weather': 447, 'extremely': 448, 'medicine': 449, 'behavior': 450, 'notice': 451, 'nowhere': 452, 'treat': 453, 'mine': 454, 'part': 455, 'truly': 456, 'communicate': 457, 'rather': 458, 'erection': 459, 'desire': 460, 'mistake': 461, 'college': 462, 'wonder': 463, 'fake': 464, 'idea': 465, 'bipolar': 466, 'summer': 467, 'travel': 468, 'yell': 469, 'true': 470, 'fault': 471, 'realize': 472, 'minute': 473, 'bring': 474, 'video': 475, 'personal': 476, 'complain': 477, 'physical': 478, 'calm': 479, 'unable': 480, 'quite': 481, 'drop': 482, '1': 483, 'christian': 484, 'explain': 485, 'confront': 486, 'disappoint': 487, 'ruin': 488, '4': 489, 'health': 490, 'stick': 491, 'affect': 492, 'hospital': 493, 'blame': 494, 'multiple': 495, 'express': 496, 'god': 497, 'suppose': 498, '0': 499, 'type': 500, 'follow': 501, 'awful': 502, 'road': 503, 'mg': 504, 'require': 505, 'friendship': 506, 'mouth': 507, 'effort': 508, 'comfortable': 509, 'visit': 510, 'maybe': 511, '11': 512, 'healthy': 513, 'death': 514, 'open': 515, 'whether': 516, 'nice': 517, 'hurtful': 518, 'side': 519, 'obsess': 520, 'raise': 521, 'hearing': 522, 'regard': 523, 'worker': 524, 'confident': 525, 'line': 526, 'tough': 527, 'rough': 528, 'country': 529, 'future': 530, 'deep': 531, 'within': 532, 'glad': 533, 'flashback': 534, 'rid': 535, 'race': 536, 'fall': 537, 'develop': 538, 'hand': 539, '15': 540, 'beautiful': 541, 'worthless': 542, 'previous': 543, 'hope': 544, 'effect': 545, 'result': 546, 'connect': 547, 'avoid': 548, 'heaven': 549, 'wonderful': 550, 'six': 551, 'wish': 552, 'grade': 553, 'basically': 554, 'concern': 555, 'distant': 556, 'breakup': 557, 'case': 558, 'maintain': 559, 'couch': 560, 'expect': 561, 'empty': 562, 'shake': 563, 'courage': 564, 'ignore': 565, 'porn': 566, 'main': 567, 'prescription': 568, 'suicide': 569, 'sibling': 570, 'habit': 571, 'shut': 572, 'apologize': 573, 'reach': 574, 'short': 575, 'attempt': 576, 'mentally': 577, 'important': 578, 'focus': 579, 'sudden': 580, 'mood': 581, 'pressure': 582, '40': 583, 'cousin': 584, 'communication': 585, 'abandon': 586, 'towards': 587, 'resolve': 588, 'bully': 589, 'attractive': 590, 'morning': 591, 'conversation': 592, 'everyday': 593, 'offer': 594, 'information': 595, 'naked': 596, 'general': 597, 'nine': 598, 'whatever': 599, 'marijuana': 600, 'extreme': 601, 'must': 602, 'may': 603, 'huge': 604, 'rarely': 605, 'teenage': 606, 'treatment': 607, 'force': 608, 'overreact': 609, 'behind': 610, 'game': 611, 'allow': 612, 'tend': 613, 'except': 614, 'count': 615, 'pornography': 616, 'badly': 617, 'posttraumatic': 618, 'facebook': 619, 'birth': 620, 'adopt': 621, 'enter': 622, 'target': 623, 'winter': 624, 'brief': 625, 'major': 626, 'secret': 627, 'reject': 628, 'intimacy': 629, 'hop': 630, 'suggestion': 631, 'business': 632, 'jealous': 633, 'claim': 634, 'movie': 635, 'although': 636, 'sociopath': 637, 'cop': 638, 'front': 639, 'safety': 640, 'unfortunately': 641, 'insecure': 642, 'character': 643, 'positive': 644, 'busy': 645, 'esteem': 646, 'space': 647, 'cycle': 648, 'sweet': 649, 'hold': 650, 'stand': 651, 'none': 652, 'teen': 653, 'connection': 654, 'sexually': 655, 'check': 656, 'hotel': 657, 'bisexual': 658, 'hat': 659, 'shock': 660, 'action': 661, 'toddler': 662, 'pee': 663, '50': 664, 'university': 665, 'finally': 666, 'neither': 667, 'ready': 668, 'public': 669, 'easy': 670, 'group': 671, 'insurance': 672, 'military': 673, 'coworker': 674, 'us': 675, 'number': 676, 'dose': 677, 'peer': 678, 'drift': 679, 'coexist': 680, 'invest': 681, 'uncared': 682, 'reconnected': 683, 'example': 684, 'annoying': 685, 'stomach': 686, 'easily': 687, 'breathe': 688, '8': 689, 'improve': 690, 'exercise': 691, 'sixty': 692, 'seriously': 693, 'pansexual': 694, 'judge': 695, 'finish': 696, 'texted': 697, 'picture': 698, 'strong': 699, 'sound': 700, 'disgust': 701, 'party': 702, 'etc': 703, 'discus': 704, 'imagine': 705, 'surround': 706, 'lonely': 707, 'online': 708, 'weight': 709, '14': 710, 'diminish': 711, 'trigger': 712, 'separation': 713, 'full': 714, 'twenty': 715, 'chance': 716, 'fail': 717, 'affair': 718, 'co': 719, 'fully': 720, 'literally': 721, 'memory': 722, 'cuss': 723, 'course': 724, 'medium': 725, '10': 726, 'swear': 727, 'form': 728, 'perfect': 729, '25': 730, 'stepdaughter': 731, 'reply': 732, 'amaze': 733, 'crush': 734, 'christmas': 735, 'moment': 736, 'weed': 737, 'excellent': 738, 'mostly': 739, 'influence': 740, 'team': 741, 'miserable': 742, 'fiancée': 743, 'rate': 744, 'guilt': 745, 'consider': 746, 'ptsd': 747, 'chest': 748, 'psychologist': 749, 'disrespectful': 750, 'obsessive': 751, 'transgender': 752, 'track': 753, 'ashamed': 754, 'degree': 755, 'gym': 756, '18': 757, 'uncomfortable': 758, 'slow': 759, 'program': 760, '12': 761, 'proper': 762, 'niece': 763, 'reminder': 764, 'roof': 765, 'rule': 766, 'anxious': 767, 'condition': 768, 'devastate': 769, 'hole': 770, 'compare': 771, 'accident': 772, 'base': 773, 'id': 774, 'card': 775, 'quickly': 776, 'clear': 777, 'choice': 778, 'severe': 779, 'boob': 780, 'unhappy': 781, 'ugly': 782, 'save': 783, 'tonight': 784, 'respond': 785, '100': 786, 'religious': 787, 'somehow': 788, 'world': 789, 'possibly': 790, 'food': 791, 'legal': 792, 'rest': 793, 'bit': 794, 'verbally': 795, 'affection': 796, 'hook': 797, 'sorry': 798, 'threaten': 799, 'unwanted': 800, 'toilet': 801, 'blood': 802, 'drama': 803, 'eye': 804, 'lust': 805, 'wine': 806, 'bear': 807, 'expression': 808, 'texting': 809, 'position': 810, 'ii': 811, 'funny': 812, 'partially': 813, 'basis': 814, 'inside': 815, 'virginity': 816, 'sport': 817, 'anybody': 818, 'add': 819, 'crave': 820, 'violence': 821, 'domestic': 822, 'offend': 823, 'afterwards': 824, 'compulsive': 825, 'sign': 826, 'aunt': 827, 'cancer': 828, 'forth': 829, 'favor': 830, 'beer': 831, 'fridge': 832, 'dead': 833, 'invite': 834, 'shame': 835, 'financial': 836, 'pill': 837, 'post': 838, 'color': 839, 'scary': 840, 'water': 841, 'instructor': 842, 'swimsuit': 843, 'top': 844, 'display': 845, 'dangerous': 846, 'finance': 847, 'daddy': 848, 'unfocused': 849, 'recovery': 850, 'pantyhose': 851, 'schizophrenia': 852, '00': 853, 'occur': 854, 'pawn': 855, 'dependent': 856, 'facilitate': 857, 'minor': 858, 'lazy': 859, 'secure': 860, 'manage': 861, 'asleep': 862, 'symptom': 863, 'custody': 864, 'visitation': 865, 'medical': 866, 'numerous': 867, 'period': 868, 'shortly': 869, 'original': 870, 'inappropriate': 871, 'exist': 872, 'selfish': 873, 'relative': 874, 'apartment': 875, 'regret': 876, 'company': 877, 'poor': 878, 'sense': 879, 'aware': 880, 'clean': 881, 'excite': 882, 'fast': 883, 'unsure': 884, 'role': 885, 'simply': 886, 'genuine': 887, 'belief': 888, 'lunch': 889, 'lock': 890, 'impact': 891, 'throughout': 892, 'convince': 893, 'block': 894, 'anti': 895, 'religion': 896, 'teach': 897, 'hell': 898, 'vehicle': 899, 'cat': 900, 'floor': 901, 'joke': 902, 'appointment': 903, 'least': 904, 'deserve': 905, 'rage': 906, 'household': 907, 'fill': 908, 'poop': 909, 'birthday': 910, 'research': 911, 'detail': 912, 'match': 913, 'laugh': 914, 'adolescent': 915, 'sober': 916, 'gift': 917, 'e': 918, 'elementary': 919, 'quiet': 920, 'trap': 921, 'function': 922, 'loud': 923, 'stranger': 924, 'unless': 925, 'truth': 926, 'oral': 927, 'dirty': 928, 'totally': 929, 'confess': 930, 'remain': 931, 'organization': 932, 'ten': 933, 'lash': 934, 'individual': 935, 'biological': 936, 'instagram': 937, 'transparent': 938, 'orgasmed': 939, 'ehh': 940, 'foreplay': 941, 'tickle': 942, 'pant': 943, 'hug': 944, 'urge': 945, 'uncle': 946, 'disappointment': 947, 'edge': 948, 'stressor': 949, 'middle': 950, 'survivor': 951, 'swallow': 952, 'intimate': 953, 'report': 954, 'resurface': 955, '17': 956, 'factor': 957, 'heel': 958, 'distract': 959, 'policy': 960, 'demean': 961, 'threesome': 962, 'complicate': 963, 'methamphetamine': 964, 'driveway': 965, 'responsibility': 966, 'mentalhealth': 967, 'facility': 968, 'background': 969, 'narrow': 970, 'disagreement': 971, 'difference': 972, 'injury': 973, 'anyway': 974, 'solve': 975, 'manner': 976, 'unacceptable': 977, 'lay': 978, 'reaction': 979, 'steal': 980, '7': 981, 'vacation': 982, 'wedding': 983, 'weird': 984, 'fetish': 985, 'false': 986, 'bos': 987, 'acknowledge': 988, 'professional': 989, 'confidence': 990, 'incident': 991, 'awfully': 992, 'hot': 993, 'sometime': 994, 'belittle': 995, 'include': 996, 'inconsiderate': 997, 'particular': 998, 'closure': 999, 'victim': 1000, 'schedule': 1001, 'obviously': 1002, 'complete': 1003, 'otherwise': 1004, 'transfer': 1005, 'upon': 1006, 'return': 1007, 'similar': 1008, '9': 1009, 'unfaithful': 1010, 'faithful': 1011, 'unsettle': 1012, 'comfort': 1013, 'book': 1014, 'nobody': 1015, 'bothersome': 1016, 'beg': 1017, 'shoot': 1018, 'serve': 1019, 'friday': 1020, 'emergency': 1021, 'financially': 1022, 'drain': 1023, 'episode': 1024, 'beside': 1025, 'sort': 1026, 'tv': 1027, 'challenge': 1028, 'pull': 1029, 'hair': 1030, 'law': 1031, 'psychiatric': 1032, 'sight': 1033, 'infant': 1034, 'human': 1035, 'accusation': 1036, 'burn': 1037, 'besides': 1038, 'parental': 1039, 'tension': 1040, 'despite': 1041, 'commit': 1042, 'suddenly': 1043, 'neglect': 1044, 'irritate': 1045, 'masturbate': 1046, 'smart': 1047, 'deny': 1048, 'demand': 1049, 'draw': 1050, 'fantasize': 1051, 'jealousy': 1052, 'likely': 1053, 'private': 1054, 'bright': 1055, 'gain': 1056, 'light': 1057, 'door': 1058, 'apology': 1059, 'store': 1060, 'file': 1061, 'suggest': 1062, 'strain': 1063, 'loathing': 1064, 'temptation': 1065, 'luckily': 1066, 'surprise': 1067, 'tall': 1068, 'socialize': 1069, 'thanksgiving': 1070, 'eight': 1071, 'level': 1072, 'value': 1073, 'excuse': 1074, 'term': 1075, 'worsen': 1076, 'explode': 1077, 'cheater': 1078, 'pretend': 1079, 'barely': 1080, 'tempt': 1081, 'remarry': 1082, 'animal': 1083, 'snap': 1084, 'ongoing': 1085, 'intercourse': 1086, 'internal': 1087, 'calorie': 1088, 'mechanism': 1089, 'intense': 1090, 'dwell': 1091, 'pride': 1092, 'sarcastic': 1093, 'normally': 1094, 'punishment': 1095, 'vivid': 1096, 'outcome': 1097, 'content': 1098, 'note': 1099, 'trauma': 1100, 'mirror': 1101, 'dysphoria': 1102, 'strategy': 1103, 'silly': 1104, 'fatigue': 1105, 'jumble': 1106, 'skip': 1107, 'beat': 1108, 'exactly': 1109, 'toe': 1110, 'deficit': 1111, 'protection': 1112, 'xanax': 1113, '5mg': 1114, 'perspective': 1115, 'accomplishment': 1116, 'clothe': 1117, 'coverage': 1118, 'hyper': 1119, 'history': 1120, 'shy': 1121, 'presentation': 1122, 'join': 1123, 'dont': 1124, 'st': 1125, 'scare': 1126, 'thearapist': 1127, 'available': 1128, 'autism': 1129, 'pedophile': 1130, 'logically': 1131, 'teacher': 1132, 'tech': 1133, 'overwork': 1134, 'underpay': 1135, 'contribution': 1136, 'demoralize': 1137, 'wreck': 1138, 'gravitate': 1139, 'toward': 1140, 'unavailable': 1141, 'dictate': 1142, 'beck': 1143, 'security': 1144, 'survive': 1145, 'monster': 1146, 'frighten': 1147, 'chronic': 1148, 'release': 1149, 'warn': 1150, 'increase': 1151, 'irritability': 1152, 'belong': 1153, 'pet': 1154, 'paper': 1155, 'certain': 1156, 'goodbye': 1157, 'propose': 1158, 'cook': 1159, 'somewhere': 1160, 'wallet': 1161, '2014': 1162, 'lend': 1163, 'narcissistic': 1164, 'sadly': 1165, 'ring': 1166, 'proposal': 1167, 'apply': 1168, 'strange': 1169, '6': 1170, 'swing': 1171, 'proof': 1172, 'employer': 1173, 'dinner': 1174, 'opinion': 1175, 'behave': 1176, 'service': 1177, 'highly': 1178, 'consume': 1179, 'member': 1180, 'confide': 1181, 'fat': 1182, 'helpless': 1183, 'stab': 1184, 'per': 1185, 'blow': 1186, 'unreasonable': 1187, 'lady': 1188, 'spiral': 1189, 'story': 1190, 'unhealthy': 1191, 'pleasure': 1192, 'sensitive': 1193, 'purpose': 1194, 'grandma': 1195, 'manic': 1196, 'verbal': 1197, 'lesson': 1198, 'rollercoaster': 1199, 'psychiatrist': 1200, 'cruel': 1201, 'homeless': 1202, 'manager': 1203, 'encourage': 1204, 'study': 1205, 'senior': 1206, 'set': 1207, 'rub': 1208, 'nearly': 1209, 'punch': 1210, 'inform': 1211, 'irrational': 1212, 'outgoing': 1213, 'shoulder': 1214, 'repeatedly': 1215, 'lingerie': 1216, 'seek': 1217, 'relate': 1218, 'quick': 1219, 'fulfil': 1220, 'nap': 1221, 'possibility': 1222, 'ideal': 1223, 'international': 1224, 'semester': 1225, 'unite': 1226, 'cultural': 1227, 'arrive': 1228, 'savior': 1229, 'special': 1230, 'appropriate': 1231, '13': 1232, 'dear': 1233, 'flirtation': 1234, 'progress': 1235, 'office': 1236, 'hugger': 1237, 'clearly': 1238, 'prefer': 1239, 'model': 1240, 'system': 1241, 'fathom': 1242, 'dread': 1243, 'dude': 1244, 'submissive': 1245, 'basketball': 1246, 'phrase': 1247, 'slowly': 1248, 'provide': 1249, 'worst': 1250, 'restroom': 1251, 'cover': 1252, 'illness': 1253, 'dispute': 1254, 'stutter': 1255, 'truck': 1256, 'driver': 1257, 'music': 1258, 'super': 1259, 'aspect': 1260, 'actual': 1261, 'site': 1262, 'resist': 1263, 'frequently': 1264, 'previously': 1265, 'properly': 1266, 'rude': 1267, 'absolutely': 1268, 'ton': 1269, 'lesbian': 1270, 'charge': 1271, 'felony': 1272, 'pander': 1273, 'admission': 1274, 'minimize': 1275, 'repent': 1276, 'opposite': 1277, 'defy': 1278, 'authoritative': 1279, 'entire': 1280, 'opportunity': 1281, 'third': 1282, 'stable': 1283, 'stage': 1284, 'probably': 1285, 'borderline': 1286, 'test': 1287, 'curse': 1288, 'rumor': 1289, 'graceful': 1290, 'insist': 1291, 'rehabilitation': 1292, 'brain': 1293, 'friendly': 1294, 'identity': 1295, 'eventually': 1296, 'happily': 1297, 'blend': 1298, 'wage': 1299, 'earner': 1300, 'sacrifice': 1301, 'core': 1302, 'resolution': 1303, 'limit': 1304, 'consumption': 1305, 'board': 1306, 'discover': 1307, 'vodka': 1308, 'snore': 1309, 'giveaway': 1310, 'slur': 1311, 'honesty': 1312, 'evil': 1313, 'football': 1314, 'player': 1315, 'indoor': 1316, 'league': 1317, 'prove': 1318, 'noise': 1319, 'grandson': 1320, 'internally': 1321, 'externally': 1322, 'unidentifiable': 1323, 'cage': 1324, 'loss': 1325, 'rape': 1326, 'fun': 1327, 'sexuality': 1328, 'bisexuality': 1329, 'dreaming': 1330, 'potential': 1331, 'wan': 1332, 'na': 1333, 'inexperienced': 1334, 'differently': 1335, 'stroke': 1336, 'participate': 1337, 'thereafter': 1338, 'overdose': 1339, 'penis': 1340, 'snit': 1341, 'silent': 1342, 'masturbation': 1343, 'star': 1344, 'motivation': 1345, 'heavy': 1346, 'awkward': 1347, 'popular': 1348, 'identify': 1349, 'variation': 1350, 'roughly': 1351, 'substance': 1352, 'skill': 1353, 'heterosexual': 1354, 'skirt': 1355, 'stock': 1356, 'fascination': 1357, 'kinky': 1358, 'vague': 1359, 'empathize': 1360, 'empathy': 1361, 'bra': 1362, 'skin': 1363, 'rent': 1364, 'suspicious': 1365, 'sweetheart': 1366, 'penny': 1367, 'imessage': 1368, 'snapchat': 1369, 'messy': 1370, 'crossdress': 1371, 'feminine': 1372, 'frequent': 1373, 'ego': 1374, 'bedroom': 1375, 'imposter': 1376, 'syndrome': 1377, 'account': 1378, 'phenomenal': 1379, 'publish': 1380, 'faculty': 1381, 'alike': 1382, 'fraud': 1383, 'paul': 1384, 'recluse': 1385, 'intensify': 1386, 'estimate': 1387, 'bankrupt': 1388, 'p': 1389, 'realization': 1390, 'missouri': 1391, 'reconnect': 1392, 'sicken': 1393, 'beyond': 1394, 'horror': 1395, 'pop': 1396, '2013': 1397, 'miscarriage': 1398, 'hardly': 1399, 'amount': 1400, 'former': 1401, 'apologetic': 1402, 'finger': 1403, 'successful': 1404, 'server': 1405, 'hundred': 1406, 'dollar': 1407, 'engage': 1408, 'cant': 1409, 'petty': 1410, 'anniversary': 1411, 'promiscuous': 1412, 'coworkers': 1413, 'statement': 1414, 'pair': 1415, 'doc': 1416, 'foot': 1417, 'hello': 1418, 'city': 1419, 'fuse': 1420, 'temperamental': 1421, 'coordinate': 1422, 'condescend': 1423, 'oblivious': 1424, 'openly': 1425, 'thoughtful': 1426, 'spatially': 1427, 'baker': 1428, 'gather': 1429, 'funeral': 1430, 'custom': 1431, 'status': 1432, 'horribly': 1433, 'register': 1434, 'offender': 1435, 'record': 1436, 'roommate': 1437, 'dump': 1438, 'skinny': 1439, 'libido': 1440, 'encounter': 1441, 'importance': 1442, 'spouse': 1443, 'reassurance': 1444, 'companion': 1445, 'priority': 1446, 'aversion': 1447, 'reconcile': 1448, 'linger': 1449, 'prevent': 1450, 'dessert': 1451, 'tone': 1452, 'jump': 1453, 'recur': 1454, 'blue': 1455, 'dismiss': 1456, 'mask': 1457, 'happiness': 1458, 'creative': 1459, 'passion': 1460, 'louisiana': 1461, 'doubt': 1462, 'dearly': 1463, 'holiday': 1464, 'loan': 1465, 'heavily': 1466, 'medicate': 1467, 'credit': 1468, 'owe': 1469, 'narcissist': 1470, 'spirit': 1471, 'pity': 1472, 'adhd': 1473, 'nut': 1474, 'extend': 1475, 'box': 1476, 'corner': 1477, 'perfectly': 1478, 'defend': 1479, 'deception': 1480, 'willingness': 1481, 'intimidate': 1482, 'silence': 1483, 'immigration': 1484, 'application': 1485, 'slap': 1486, 'supportive': 1487, 'guidance': 1488, 'intervene': 1489, 'wrongly': 1490, 'mommy': 1491, 'cold': 1492, 'lull': 1493, 'chair': 1494, 'diaper': 1495, 'pattern': 1496, 'recommend': 1497, 'phase': 1498, 'assume': 1499, 'erectile': 1500, 'dysfunction': 1501, 'viagra': 1502, 'cialis': 1503, 'discuss': 1504, 'frustration': 1505, 'cancel': 1506, 'smoke': 1507, 'negativity': 1508, 'adore': 1509, 'starve': 1510, 'sorority': 1511, 'patch': 1512, 'babysitter': 1513, 'escalate': 1514, 'gastric': 1515, 'sleeve': 1516, 'surgery': 1517, 'feedback': 1518, 'mail': 1519, 'appearance': 1520, 'facial': 1521, 'psychology': 1522, 'depressive': 1523, 'list': 1524, 'prohibit': 1525, 'depressant': 1526, 'clinic': 1527, 'tick': 1528, 'appetite': 1529, 'immediately': 1530, 'x': 1531, 'ray': 1532, 'spine': 1533, 'bickering': 1534, 'semi': 1535, 'bottom': 1536, 'nerve': 1537, 'independent': 1538, 'unemployed': 1539, 'verge': 1540, 'anytime': 1541, 'ipad': 1542, 'grandbaby': 1543, 'shelf': 1544, 'unit': 1545, 'bake': 1546, 'pie': 1547, 'wrecking': 1548, 'garbage': 1549, 'receive': 1550, 'flare': 1551, 'outside': 1552, 'license': 1553, 'sadness': 1554, 'funk': 1555, 'headache': 1556, 'attitude': 1557, 'somebody': 1558, 'unworthiness': 1559, 'motivate': 1560, 'build': 1561, 'large': 1562, 'debt': 1563, 'borrow': 1564, 'disappear': 1565, 'anywhere': 1566, '000': 1567, 'bill': 1568, 'antisocial': 1569, 'liar': 1570, 'pace': 1571, 'conduct': 1572, 'respectfully': 1573, 'sake': 1574, 'definite': 1575, 'attraction': 1576, 'misery': 1577, 'establish': 1578, 'share': 1579, 'implant': 1580, 'address': 1581, 'ability': 1582, 'fire': 1583, 'santa': 1584, 'desperate': 1585, 'magic': 1586, 'pushy': 1587, 'madly': 1588, 'mile': 1589, 'mutual': 1590, 'fly': 1591, 'sooner': 1592, 'aggression': 1593, 'environment': 1594, 'investigate': 1595, 'procrastination': 1596, 'c': 1597, 'f': 1598, 'freshman': 1599, 'tim': 1600, 'sally': 1601, 'endure': 1602, 'fair': 1603, 'instantly': 1604, 'stepdad': 1605, 'parking': 1606, 'depend': 1607, 'damage': 1608, 'penetration': 1609, 'supervision': 1610, 'alcoholic': 1611, 'goal': 1612, 'delete': 1613, 'definitely': 1614, 'career': 1615, 'ungrateful': 1616, 'exhaust': 1617, 'contract': 1618, 'hunt': 1619, 'creature': 1620, 'ill': 1621, 'halloween': 1622, 'diagnosis': 1623, 'agoraphobia': 1624, 'incapable': 1625, 'waste': 1626, 'resource': 1627, 'click': 1628, 'associate': 1629, 'failure': 1630, 'seat': 1631, 'belt': 1632, 'meaningless': 1633, 'conclusion': 1634, 'possessiveness': 1635, '29': 1636, 'rush': 1637, 'protect': 1638, 'interaction': 1639, 'july': 1640, 'grocery': 1641, 'alive': 1642, 'intimately': 1643, 'awhile': 1644, 'relieve': 1645, 'repress': 1646, 'oddly': 1647, 'jumpy': 1648, 'slight': 1649, 'injure': 1650, 'prison': 1651, 'blur': 1652, 'direct': 1653, 'resentment': 1654, 'war': 1655, 'butterfly': 1656, 'molest': 1657, 'pink': 1658, 'barbie': 1659, 'backpack': 1660, 'fit': 1661, 'abstain': 1662, 'guess': 1663, 'incredibly': 1664, 'escape': 1665, 'crowd': 1666, 'sweaty': 1667, 'subsequently': 1668, 'accountability': 1669, 'halfway': 1670, 'relapse': 1671, 'dress': 1672, 'apathetic': 1673, 'television': 1674, 'unconditionally': 1675, 'voicemail': 1676, '24': 1677, 'impress': 1678, 'hysterically': 1679, 'sweat': 1680, 'scribble': 1681, 'grief': 1682, 'hobby': 1683, 'hr': 1684, 'nourish': 1685, 'nasty': 1686, 'ive': 1687, 'penalize': 1688, 'prior': 1689, 'softball': 1690, 'obligate': 1691, 'runner': 1692, 'wrap': 1693, 'arise': 1694, 'tremendously': 1695, 'alzheimer': 1696, 'interview': 1697, 'tumblr': 1698, 'squat': 1699, 'unusually': 1700, 'wont': 1701, 'altercation': 1702, 'total': 1703, 'imaginary': 1704, 'choose': 1705, 'clue': 1706, 'carry': 1707, 'decrease': 1708, 'butt': 1709, 'peace': 1710, 'mainly': 1711, 'december': 1712, 'object': 1713, 'makeup': 1714, 'tuck': 1715, 'resemble': 1716, 'vagina': 1717, 'strap': 1718, 'anal': 1719, 'react': 1720, 'bash': 1721, 'various': 1722, 'overly': 1723, 'hypochondriac': 1724, 'chemistry': 1725, 'loathe': 1726, 'esd': 1727, 'disable': 1728, 'grandparent': 1729, 'automobile': 1730, 'response': 1731, 'payment': 1732, 'recent': 1733, 'photo': 1734, 'boundary': 1735, 'rock': 1736, 'community': 1737, 'comb': 1738, 'furious': 1739, 'attatchment': 1740, 'classify': 1741, 'characteristic': 1742, 'view': 1743, 'suppress': 1744, 'vibe': 1745, 'overall': 1746, 'discussion': 1747, 'purchase': 1748, 'personalize': 1749, 'reimburse': 1750, 'consistently': 1751, 'cancellation': 1752, 'shit': 1753, 'classmate': 1754, 'ache': 1755, 'peter': 1756, 'jennifer': 1757, 'buy': 1758, 'orient': 1759, 'tense': 1760, 'overbear': 1761, 'magnify': 1762, 'possessive': 1763, 'underlie': 1764, 'blister': 1765, 'recognize': 1766, 'hypocrite': 1767, 'tomorrow': 1768, 'dig': 1769, 'grind': 1770, 'r': 1771, 'practically': 1772, 'florida': 1773, 'ok': 1774, 'affectionate': 1775, 'internet': 1776, 'addition': 1777, 'originally': 1778, 'replace': 1779, 'tie': 1780, 'window': 1781, 'restaurant': 1782, 'adapt': 1783, 'astound': 1784, 'cruelty': 1785, 'faith': 1786, 'humanity': 1787, 'hint': 1788, 'dumb': 1789, 'fund': 1790, 'material': 1791, 'envious': 1792, 'plus': 1793, 'grieve': 1794, 'awake': 1795, 'police': 1796, 'bore': 1797, 'distraction': 1798, 'choke': 1799, 'spanking': 1800, 'toy': 1801, 'likewise': 1802, 'blatantly': 1803, 'angle': 1804, 'image': 1805, 'invalidate': 1806, 'location': 1807, 'isolation': 1808, 'genuinely': 1809, 'utter': 1810, 'discredit': 1811, 'plea': 1812, 'decade': 1813, 'unforgiving': 1814, 'granddaughter': 1815, 'ugliness': 1816, 'exaggerate': 1817, 'proportion': 1818, 'reality': 1819, 'reasonable': 1820, 'insensitive': 1821, 'postpartum': 1822, 'grandchild': 1823, 'sincerely': 1824, 'newly': 1825, 'particularly': 1826, 'partly': 1827, 'romance': 1828, 'center': 1829, 'hectic': 1830, 'orgasm': 1831, 'legitimately': 1832, 'angrily': 1833, 'denial': 1834, 'broach': 1835, 'subject': 1836, 'obsession': 1837, 'prioritize': 1838, 'grab': 1839, 'exchange': 1840, 'brunch': 1841, 'reciprocate': 1842, 'harmful': 1843, 'prophesy': 1844, 'accusatory': 1845, 'unbearably': 1846, 'cell': 1847, 'sanity': 1848, 'ethical': 1849, 'cod': 1850, 'ramification': 1851, 'thirty': 1852, 'till': 1853, 'kinda': 1854, 'brick': 1855, 'expressive': 1856, 'thru': 1857, 'strength': 1858, 'rapist': 1859, 'convict': 1860, 'texas': 1861, 'occasion': 1862, 'adoption': 1863, 'maintenance': 1864, 'evict': 1865, 'majorly': 1866, 'impossible': 1867, 'sunday': 1868, 'restrict': 1869, 'competition': 1870, 'planet': 1871, 'flip': 1872, 'upside': 1873, '2008': 1874, 'deeply': 1875, 'loner': 1876, 'management': 1877, 'apparently': 1878, 'odd': 1879, 'demeanor': 1880, 'shift': 1881, 'inappropriately': 1882, 'urinate': 1883, 'peeing': 1884, 'litter': 1885, 'bottle': 1886, 'directly': 1887, 'literature': 1888, 'incorrect': 1889, 'harsh': 1890, 'science': 1891, 'assignment': 1892, 'network': 1893, 'remote': 1894, 'elsewhere': 1895, 'fee': 1896, 'brag': 1897, 'bath': 1898, 'soap': 1899, 'loyal': 1900, 'gynecologist': 1901, 'attend': 1902, 'sonogram': 1903, 'transition': 1904, 'persist': 1905, '4th': 1906, 'loom': 1907, 'spurt': 1908, 'pure': 1909, 'hormone': 1910, 'destructive': 1911, 'bite': 1912, 'arm': 1913, 'scratch': 1914, 'thigh': 1915, 'earring': 1916, 'sickness': 1917, 'hospitalize': 1918, 'loneliness': 1919, 'search': 1920, 'void': 1921, 'conscious': 1922, 'train': 1923, 'gag': 1924, 'june': 1925, '2016': 1926, 'detach': 1927, 'dependency': 1928, 'bi': 1929, 'polar': 1930, 'detachment': 1931, 'sneaky': 1932, 'harass': 1933, 'stalk': 1934, 'presence': 1935, 'battle': 1936, 'intervention': 1937, 'casually': 1938, 'compromise': 1939, 'casual': 1940, 'power': 1941, 'wit': 1942, 'relatively': 1943, 'fraternity': 1944, 'regretful': 1945, 'flaunt': 1946, 'bury': 1947, 'jan': 1948, 'access': 1949, 'wedge': 1950, 'advise': 1951, 'consequence': 1952, 'dislocate': 1953, 'hip': 1954, 'electroshock': 1955, 'keen': 1956, 'mentor': 1957, 'spiritually': 1958, 'manipulation': 1959, 'leadership': 1960, 'suspect': 1961, 'bomb': 1962, 'skyped': 1963, 'skype': 1964, 'joy': 1965, 'assure': 1966, 'cyst': 1967, 'remove': 1968, 'testicle': 1969, 'season': 1970, 'unfair': 1971, 'vomit': 1972, 'joyous': 1973, 'massive': 1974, 'forum': 1975, 'thankful': 1976, 'academic': 1977, 'culture': 1978, 'relocate': 1979, 'approve': 1980, 'loose': 1981, 'tunnel': 1982, 'chaos': 1983, 'infest': 1984, 'rip': 1985, 'everywhere': 1986, 'solution': 1987, 'farm': 1988, 'piece': 1989, 'curl': 1990, 'mall': 1991, 'cling': 1992, 'conflict': 1993, 'cashier': 1994, 'pump': 1995, 'bet': 1996, 'poodle': 1997, 'disagree': 1998, 'tease': 1999, 'chase': 2000, 'undiagnosed': 2001, 'mass': 2002, 'infection': 2003, 'locker': 2004, 'smile': 2005, 'unconfident': 2006, 'doom': 2007, 'employee': 2008, 'outlet': 2009, 'asthma': 2010, 'weapon': 2011, 'entirely': 2012, 'tragic': 2013, 'twist': 2014, 'legitimate': 2015, 'borrowing': 2016, 'trail': 2017, 'sob': 2018, 'gamble': 2019, 'compulsively': 2020, 'epilepsy': 2021, 'simple': 2022, 'pathological': 2023, 'technology': 2024, 'fantasy': 2025, 'unwilling': 2026, 'participant': 2027, 'hypnosis': 2028, 'debilitate': 2029, 'wellbutrin': 2030, 'unwillingness': 2031, 'despair': 2032, 'complacent': 2033, 'fulfillment': 2034, 'regain': 2035, 'zombie': 2036, 'haze': 2037, 'concentrate': 2038, 'infuriate': 2039, 'gasoline': 2040, 'respectful': 2041, 'rebound': 2042, 'console': 2043, 'companionship': 2044, 'hysterectomy': 2045, 'knee': 2046, 'eve': 2047, 'alright': 2048, 'crap': 2049, 'golden': 2050, 'deviant': 2051, 'trip': 2052, 'unintentional': 2053, 'unbearable': 2054, 'august': 2055, 'signal': 2056, 'cross': 2057, 'recover': 2058, 'ridiculous': 2059, 'violently': 2060, 'interact': 2061, 'spark': 2062, 'acknowledgment': 2063, 'repetition': 2064, 'cheap': 2065, 'walmart': 2066, 'honeymoon': 2067, 'downward': 2068, 'famous': 2069, 'across': 2070, 'afternoon': 2071, 'table': 2072, 'assessment': 2073, 'abuser': 2074, 'invisible': 2075, 'romantically': 2076, 'platonic': 2077, 'free': 2078, 'kitty': 2079, 'gross': 2080, 'debit': 2081, 'punish': 2082, 'ground': 2083, 'betrayal': 2084, 'forgiveness': 2085, '3000': 2086, 'grateful': 2087, 'validation': 2088, 'haunt': 2089, 'newborn': 2090, 'pregnancy': 2091, 'abortion': 2092, 'temper': 2093, 'wheel': 2094, 'stupidly': 2095, 'climax': 2096, 'h': 2097, 'lovecraft': 2098, 'edgar': 2099, 'allen': 2100, 'poe': 2101, 'saturday': 2102, 'powerful': 2103, 'flesh': 2104, 'elephant': 2105, 'insinuate': 2106, 'babysit': 2107, 'refer': 2108, '16': 2109, 'aggravate': 2110, 'forbid': 2111, 'brainwash': 2112, 'deceive': 2113, 'slut': 2114, 'devil': 2115, 'worshipper': 2116, 'retail': 2117, 'passenger': 2118, 'ride': 2119, 'backseat': 2120, 'lean': 2121, 'degrade': 2122, 'warmly': 2123, 'agonize': 2124, 'distrust': 2125, 'temporary': 2126, 'strand': 2127, 'passive': 2128, 'aggressive': 2129, 'snoring': 2130, 'deliver': 2131, 'clot': 2132, 'bleed': 2133, 'transfusion': 2134, 'undergo': 2135, 'ordeal': 2136, 'unaccomplished': 2137, 'comfortably': 2138, 'clarity': 2139, 'dance': 2140, 'knob': 2141, 'paranoia': 2142, 'noisy': 2143, 'reproduce': 2144, 'hispanic': 2145, 'language': 2146, 'overstep': 2147, 'balance': 2148, 'reflect': 2149, 'intuition': 2150, 'guardianship': 2151, 'nonexistent': 2152, 'nowadays': 2153, 'interfere': 2154, 'automatically': 2155, '19': 2156, 'vastly': 2157, 'disproportionate': 2158, 'lucid': 2159, 'drown': 2160, 'crumble': 2161, 'adoptive': 2162, 'plug': 2163, 'ear': 2164, 'moody': 2165, 'clingy': 2166, 'info': 2167, 'pathetic': 2168, 'mature': 2169, 'bossy': 2170, 'randomly': 2171, 'compatible': 2172, 'criminal': 2173, 'justice': 2174, 'bdsm': 2175, 'unprotected': 2176, 'paralysis': 2177, 'mock': 2178, 'practice': 2179, 'piano': 2180, 'quinceañera': 2181, 'film': 2182, 'meditation': 2183, 'cute': 2184, 'reflection': 2185, 'prescribe': 2186, 'scold': 2187, 'button': 2188, 'sweating': 2189, 'conscience': 2190, 'annoy': 2191, 'im': 2192, 'charm': 2193, 'hissy': 2194, 'assist': 2195, 'joyless': 2196, 'motion': 2197, 'assault': 2198, 'blunt': 2199, 'crisis': 2200, 'twin': 2201, 'meltdown': 2202, 'camera': 2203, 'wherever': 2204, 'radio': 2205, 'whisper': 2206, 'hangout': 2207, 'wednesday': 2208, 'maze': 2209, 'socially': 2210, 'straightforward': 2211, 'unsettled': 2212, 'soul': 2213, 'codependent': 2214, 'manipulative': 2215, 'diabetes': 2216, 'horrendous': 2217, 'contribute': 2218, 'unrealistic': 2219, 'item': 2220, 'intellectual': 2221, 'disease': 2222, 'paralyze': 2223, 'performance': 2224, 'extensive': 2225, 'humiliate': 2226, 'temp': 2227, 'agency': 2228, 'provider': 2229, 'pursue': 2230, 'betray': 2231, 'isolate': 2232, 'curb': 2233, 'horrifically': 2234, 'unspeakable': 2235, 'stressful': 2236, 'solace': 2237, 'motherly': 2238, 'mentality': 2239, 'fruit': 2240, 'vegetable': 2241, 'junk': 2242, 'pointless': 2243, 'clown': 2244, 'uncontrollably': 2245, 'inflammatory': 2246, 'demyelinate': 2247, 'polyneuropathy': 2248, 'caregiver': 2249, 'uncontrollable': 2250, 'repetitive': 2251, 'somewhat': 2252, 'occasionally': 2253, 'benign': 2254, 'tumor': 2255, 'destroy': 2256, 'armed': 2257, 'leukemia': 2258, 'playfully': 2259, 'outfit': 2260, 'scan': 2261, 'diabetic': 2262, 'attachment': 2263, 'innocent': 2264, 'freedom': 2265, 'lover': 2266, 'actively': 2267, 'stretch': 2268, 'mark': 2269, 'heartbroken': 2270, 'quality': 2271, 'overweight': 2272, 'enormous': 2273, 'load': 2274, 'electrician': 2275, 'operate': 2276, 'machinery': 2277, 'november': 2278, '11pm': 2279, 'april': 2280, 'yes': 2281, 'danger': 2282, 'formally': 2283, 'lovingly': 2284, 'education': 2285, 'jail': 2286, 'overdramatic': 2287, 'option': 2288, 'proud': 2289, 'hateful': 2290, 'quote': 2291, 'appreciate': 2292, 'insure': 2293, 'illegible': 2294, 'envelope': 2295, 'contain': 2296, 'ersatz': 2297, 'atone': 2298, 'cowardly': 2299, 'kindness': 2300, 'karma': 2301, 'jade': 2302, 'convey': 2303, 'specifically': 2304, 'deteriorate': 2305, 'despise': 2306, 'absurdly': 2307, 'vulgar': 2308, 'upcoming': 2309, 'schooling': 2310, 'zero': 2311, 'prank': 2312, '60': 2313, 'asperger': 2314, 'flirty': 2315, 'risk': 2316, 'restrain': 2317, 'website': 2318, 'hack': 2319, 'misophonia': 2320, '99': 2321, 'avoidant': 2322, 'dsm': 2323, 'iv': 2324, 'peaceful': 2325, 'eventhough': 2326, 'discontinue': 2327, 'apparent': 2328, 'toxic': 2329, 'fishing': 2330, 'pond': 2331, 'frog': 2332, 'knife': 2333, 'million': 2334, 'profusely': 2335, 'paycheck': 2336, 'trash': 2337, 'validate': 2338, 'tendency': 2339, 'flight': 2340, 'stair': 2341, 'leg': 2342, 'curiosity': 2343, 'kidnap': 2344, 'fourteen': 2345, 'gunpoint': 2346, 'nineteen': 2347, 'careful': 2348, 'project': 2349, 'onto': 2350, 'hyperactivity': 2351, 'income': 2352, 'crappy': 2353, 'grand': 2354, 'strict': 2355, '48': 2356, 'tuesday': 2357, 'double': 2358, 'sink': 2359, 'useless': 2360, 'area': 2361, 'primary': 2362, 'physician': 2363, 'zoosk': 2364, 'luck': 2365, '5000': 2366, 'deductible': 2367, 'screw': 2368, 'promote': 2369, 'reoccurring': 2370, 'ninth': 2371, 'principal': 2372, 'spell': 2373, 'boot': 2374, 'traumatic': 2375, 'outburst': 2376, 'intil': 2377, 'yr': 2378, 'ireland': 2379, 'profanity': 2380, 'pertain': 2381, 'dramatic': 2382, 'tiptoe': 2383, 'neatly': 2384, 'abou': 2385, 'basic': 2386, 'regularly': 2387, 'reputation': 2388, 'longtime': 2389, '1000': 2390, 'invitation': 2391, 'mend': 2392, 'sneak': 2393, 'difficulty': 2394, 'heroin': 2395, 'manipulate': 2396, 'stepson': 2397, 'stepmom': 2398, 'illegally': 2399, 'opiate': 2400, 'unannounced': 2401, 'opinionated': 2402, 'unsolicited': 2403, 'rear': 2404, 'privacy': 2405, 'barge': 2406, 'key': 2407, 'permission': 2408, 'combative': 2409, 'opening': 2410, 'instigate': 2411, 'terminally': 2412, 'psychologically': 2413, 'foster': 2414, 'untill': 2415, 'pm': 2416}\n"
     ]
    }
   ],
   "source": [
    "tokenizer = preprocessing.text.Tokenizer()\n",
    "tokenizer.fit_on_texts( questionText_nostops ) \n",
    "tokenized_questions = tokenizer.texts_to_sequences( questionText_nostops ) \n",
    "word_index = tokenizer.word_index\n",
    "print('Sample tokenized: {}'.format(tokenized_questions[0]))\n",
    "print('==================================================================================================================\\n')\n",
    "\n",
    "length_list = list()\n",
    "for token_seq in tokenized_questions:\n",
    "    length_list.append( len( token_seq ))\n",
    "max_input_length = np.array( length_list ).max()\n",
    "print( 'Questions max length is {} words'.format( max_input_length ))\n",
    "print('==================================================================================================================\\n')\n",
    "\n",
    "padded_questions = preprocessing.sequence.pad_sequences( tokenized_questions , maxlen=max_input_length , padding='post' )\n",
    "input_data = np.array( padded_questions )\n",
    "print( 'Input data shape -> {}\\n'.format( input_data.shape ))\n",
    "print('Input data sample->\\n {}'.format(input_data[0]))\n",
    "print('==================================================================================================================\\n')\n",
    "\n",
    "question_word_dict = tokenizer.word_index\n",
    "num_question_tokens = len( question_word_dict )+1\n",
    "print( 'Number of Question tokens = {}\\n'.format( num_question_tokens))\n",
    "print('Dictionary: {}'.format(question_word_dict))"
   ]
  },
  {
   "cell_type": "markdown",
   "metadata": {
    "id": "2qAqsYsgceCG"
   },
   "source": [
    "## Word Embedding - Glove Embeddings"
   ]
  },
  {
   "cell_type": "code",
   "execution_count": 56,
   "metadata": {
    "colab": {
     "base_uri": "https://localhost:8080/"
    },
    "id": "bg1mJuJ8fsfr",
    "outputId": "891e1122-eac8-4350-d2aa-a5c084d2084d"
   },
   "outputs": [
    {
     "data": {
      "text/plain": [
       "<gensim.models.keyedvectors.Word2VecKeyedVectors at 0x7fb58eac05d0>"
      ]
     },
     "execution_count": 56,
     "metadata": {},
     "output_type": "execute_result"
    }
   ],
   "source": [
    "from gensim.test.utils import datapath, get_tmpfile\n",
    "from gensim.models import KeyedVectors\n",
    "from gensim.scripts.glove2word2vec import glove2word2vec\n",
    "\n",
    "glove_file = datapath('test_glove.txt')\n",
    "tmp_file = get_tmpfile(\"test_word2vec.txt\")\n",
    "\n",
    "_ = glove2word2vec(glove_file, tmp_file)\n",
    "\n",
    "model = KeyedVectors.load_word2vec_format(tmp_file)\n",
    "model"
   ]
  },
  {
   "cell_type": "code",
   "execution_count": 188,
   "metadata": {
    "colab": {
     "base_uri": "https://localhost:8080/"
    },
    "id": "9ziHAvOXkI7a",
    "outputId": "1a71d624-231f-472f-bea5-246b9b51fee1"
   },
   "outputs": [
    {
     "data": {
      "text/plain": [
       "[('stupid', 0.8132887482643127),\n",
       " ('confused', 0.7932009100914001),\n",
       " ('birds', 0.7878215909004211),\n",
       " ('weird', 0.7833624482154846),\n",
       " ('annoying', 0.7818509936332703),\n",
       " ('sometimes', 0.780109167098999),\n",
       " ('mad', 0.7680050730705261),\n",
       " ('scared', 0.7669514417648315),\n",
       " ('bit', 0.7651330232620239),\n",
       " ('feel', 0.7628020644187927)]"
      ]
     },
     "execution_count": 188,
     "metadata": {},
     "output_type": "execute_result"
    }
   ],
   "source": [
    "import gensim.downloader as api\n",
    "\n",
    "info = api.info()  # show info about available models/datasets\n",
    "model = api.load(\"glove-twitter-50\")  # download the model and return as object ready for use\n",
    "model.most_similar(\"angry\")"
   ]
  },
  {
   "cell_type": "code",
   "execution_count": 63,
   "metadata": {
    "colab": {
     "base_uri": "https://localhost:8080/"
    },
    "execution": {
     "iopub.status.busy": "2021-12-11T09:31:57.740932Z",
     "iopub.status.idle": "2021-12-11T09:31:57.741326Z",
     "shell.execute_reply": "2021-12-11T09:31:57.741131Z",
     "shell.execute_reply.started": "2021-12-11T09:31:57.741109Z"
    },
    "id": "ei8ZP3LnbHqo",
    "outputId": "8f592cd0-16c4-44a0-efc0-7ec16febd94d"
   },
   "outputs": [
    {
     "data": {
      "text/plain": [
       "[('quiet', 0.9196479320526123),\n",
       " ('crazy', 0.8963231444358826),\n",
       " ('loud', 0.8955198526382446),\n",
       " ('feel', 0.8897919058799744),\n",
       " ('loving', 0.8833610415458679),\n",
       " ('sober', 0.882926344871521),\n",
       " ('sleeping', 0.8801181316375732),\n",
       " ('depressed', 0.879048764705658),\n",
       " ('scary', 0.8757081627845764),\n",
       " ('sad', 0.8738341927528381)]"
      ]
     },
     "execution_count": 63,
     "metadata": {},
     "output_type": "execute_result"
    }
   ],
   "source": [
    "glove_vectors.most_similar('lonely')"
   ]
  },
  {
   "cell_type": "code",
   "execution_count": 68,
   "metadata": {
    "colab": {
     "base_uri": "https://localhost:8080/"
    },
    "id": "BOzszAE8d3MZ",
    "outputId": "e7c48571-70c6-4c81-a3e9-b827b8618c13"
   },
   "outputs": [
    {
     "data": {
      "text/plain": [
       "[('hate', 0.9336040019989014),\n",
       " ('feel', 0.9293274283409119),\n",
       " ('stupid', 0.9281623959541321),\n",
       " ('reason', 0.9275999665260315),\n",
       " ('confused', 0.9258189797401428)]"
      ]
     },
     "execution_count": 68,
     "metadata": {},
     "output_type": "execute_result"
    }
   ],
   "source": [
    "result = model.most_similar(positive=['angry', 'sad'], topn=5)\n",
    "result"
   ]
  },
  {
   "cell_type": "code",
   "execution_count": 189,
   "metadata": {
    "colab": {
     "base_uri": "https://localhost:8080/"
    },
    "execution": {
     "iopub.status.busy": "2021-12-11T09:31:57.762300Z",
     "iopub.status.idle": "2021-12-11T09:31:57.762748Z",
     "shell.execute_reply": "2021-12-11T09:31:57.762543Z",
     "shell.execute_reply.started": "2021-12-11T09:31:57.762519Z"
    },
    "id": "8f5l1-aobHqp",
    "outputId": "8c82bd36-7a9b-4ea8-f333-83d94d6def3d"
   },
   "outputs": [
    {
     "name": "stderr",
     "output_type": "stream",
     "text": [
      "/usr/local/lib/python3.7/dist-packages/ipykernel_launcher.py:1: DeprecationWarning: Call to deprecated `wv` (Attribute will be removed in 4.0.0, use self instead).\n",
      "  \"\"\"Entry point for launching an IPython kernel.\n"
     ]
    },
    {
     "name": "stdout",
     "output_type": "stream",
     "text": [
      "1193514\n",
      "The no of key-value pairs :  1193514\n"
     ]
    }
   ],
   "source": [
    "vocab=list(model.wv.vocab)\n",
    "index_of_words = len(vocab)\n",
    "print(index_of_words)\n",
    "word_vec_dict={}\n",
    "for word in vocab:\n",
    "    word_vec_dict[word]=(glove_vectors.get_vector(word))\n",
    "print(\"The no of key-value pairs : \",len(word_vec_dict)) # should come equal to vocab size"
   ]
  },
  {
   "cell_type": "code",
   "execution_count": 190,
   "metadata": {
    "execution": {
     "iopub.status.busy": "2021-12-11T09:31:57.764083Z",
     "iopub.status.idle": "2021-12-11T09:31:57.764761Z",
     "shell.execute_reply": "2021-12-11T09:31:57.764541Z",
     "shell.execute_reply.started": "2021-12-11T09:31:57.764511Z"
    },
    "id": "vVQSuJLsbHqp"
   },
   "outputs": [],
   "source": [
    "embed_matrix=np.zeros(shape=(len(vocab),25))\n",
    "i=0\n",
    "for word,i in word_index.items():\n",
    "    embed_vector=word_vec_dict.get(word)\n",
    "    # print(embed_vector)\n",
    "    if embed_vector is not None:  # word is in the vocabulary learned by the w2v model\n",
    "        embed_matrix[i]=embed_vector\n",
    "  # if word is not found then embed_vector corressponding to that vector will stay zero."
   ]
  },
  {
   "cell_type": "code",
   "execution_count": 191,
   "metadata": {
    "colab": {
     "base_uri": "https://localhost:8080/",
     "height": 35
    },
    "execution": {
     "iopub.status.busy": "2021-12-11T09:31:57.767942Z",
     "iopub.status.idle": "2021-12-11T09:31:57.768337Z",
     "shell.execute_reply": "2021-12-11T09:31:57.768142Z",
     "shell.execute_reply.started": "2021-12-11T09:31:57.768120Z"
    },
    "id": "IDuhRengbHqq",
    "outputId": "16f29caf-75dc-4416-aeae-1e15a8ad7567"
   },
   "outputs": [
    {
     "data": {
      "application/vnd.google.colaboratory.intrinsic+json": {
       "type": "string"
      },
      "text/plain": [
       "'2.7.0'"
      ]
     },
     "execution_count": 191,
     "metadata": {},
     "output_type": "execute_result"
    }
   ],
   "source": [
    "import tensorflow as tf\n",
    "from tensorflow.keras import preprocessing\n",
    "\n",
    "tf.random.set_seed(4)\n",
    "tf.__version__"
   ]
  },
  {
   "cell_type": "markdown",
   "metadata": {
    "id": "s6m-HdirbHqq"
   },
   "source": [
    "Finally, with the input data ready with the numerical token indices, it is time to split the dataset into training and testing sets."
   ]
  },
  {
   "cell_type": "code",
   "execution_count": 192,
   "metadata": {
    "execution": {
     "iopub.status.busy": "2021-12-11T09:31:57.769651Z",
     "iopub.status.idle": "2021-12-11T09:31:57.770046Z",
     "shell.execute_reply": "2021-12-11T09:31:57.769851Z",
     "shell.execute_reply.started": "2021-12-11T09:31:57.769829Z"
    },
    "id": "7XtZwMwzbHqr"
   },
   "outputs": [],
   "source": [
    "from sklearn.model_selection import train_test_split"
   ]
  },
  {
   "cell_type": "code",
   "execution_count": 193,
   "metadata": {
    "execution": {
     "iopub.status.busy": "2021-12-11T09:31:57.771527Z",
     "iopub.status.idle": "2021-12-11T09:31:57.771920Z",
     "shell.execute_reply": "2021-12-11T09:31:57.771727Z",
     "shell.execute_reply.started": "2021-12-11T09:31:57.771705Z"
    },
    "id": "UGA656DgbHqr"
   },
   "outputs": [],
   "source": [
    "x_train, x_test, y_train, y_test = train_test_split(input_data, targetdf, test_size = 0.2, random_state=2)"
   ]
  },
  {
   "cell_type": "code",
   "execution_count": 194,
   "metadata": {
    "colab": {
     "base_uri": "https://localhost:8080/"
    },
    "execution": {
     "iopub.status.busy": "2021-12-11T09:31:57.773362Z",
     "iopub.status.idle": "2021-12-11T09:31:57.773789Z",
     "shell.execute_reply": "2021-12-11T09:31:57.773595Z",
     "shell.execute_reply.started": "2021-12-11T09:31:57.773571Z"
    },
    "id": "ExZeG56RbHqs",
    "outputId": "8a6617d0-6236-42cf-8cb0-91d167ea866e"
   },
   "outputs": [
    {
     "name": "stdout",
     "output_type": "stream",
     "text": [
      "(1100, 220) (276, 220)\n",
      "(1100, 32) (276, 32)\n"
     ]
    }
   ],
   "source": [
    "print(x_train.shape, x_test.shape)\n",
    "print(y_train.shape, y_test.shape)"
   ]
  },
  {
   "cell_type": "markdown",
   "metadata": {
    "id": "kJSEsIdmbHqs"
   },
   "source": [
    "Finally, in the below cell, the bi-directional LSTM model is defined."
   ]
  },
  {
   "cell_type": "markdown",
   "metadata": {
    "id": "KDCLwGM_JB8u"
   },
   "source": [
    "## Model Architecture"
   ]
  },
  {
   "cell_type": "code",
   "execution_count": 239,
   "metadata": {
    "execution": {
     "iopub.status.busy": "2021-12-11T09:31:57.775263Z",
     "iopub.status.idle": "2021-12-11T09:31:57.775702Z",
     "shell.execute_reply": "2021-12-11T09:31:57.775493Z",
     "shell.execute_reply.started": "2021-12-11T09:31:57.775470Z"
    },
    "id": "MB9pbT-ubHqs"
   },
   "outputs": [],
   "source": [
    "# vacab size is number of unique words + reserved 0 index for padding\n",
    "vocab_size = index_of_words\n",
    "# Embedding layer before the actaul LSTM \n",
    "embedd_layer = tf.keras.layers.Embedding(vocab_size,25,input_length = max_input_length,weights = [embed_matrix],trainable=False)"
   ]
  },
  {
   "cell_type": "code",
   "execution_count": 240,
   "metadata": {
    "colab": {
     "base_uri": "https://localhost:8080/"
    },
    "execution": {
     "iopub.status.busy": "2021-12-11T09:31:57.778824Z",
     "iopub.status.idle": "2021-12-11T09:31:57.779225Z",
     "shell.execute_reply": "2021-12-11T09:31:57.779027Z",
     "shell.execute_reply.started": "2021-12-11T09:31:57.779005Z"
    },
    "id": "92Up13o-bHqt",
    "outputId": "6ee6624f-62d4-4e1d-f3d5-f9bce1d56509"
   },
   "outputs": [
    {
     "name": "stdout",
     "output_type": "stream",
     "text": [
      "Model: \"sequential_17\"\n",
      "_________________________________________________________________\n",
      " Layer (type)                Output Shape              Param #   \n",
      "=================================================================\n",
      " embedding_7 (Embedding)     (None, 220, 25)           29837850  \n",
      "                                                                 \n",
      " bidir (Bidirectional)       (None, 200)               100800    \n",
      "                                                                 \n",
      " dense_20 (Dense)            (None, 500)               100500    \n",
      "                                                                 \n",
      " dense_21 (Dense)            (None, 32)                16032     \n",
      "                                                                 \n",
      "=================================================================\n",
      "Total params: 30,055,182\n",
      "Trainable params: 217,332\n",
      "Non-trainable params: 29,837,850\n",
      "_________________________________________________________________\n"
     ]
    }
   ],
   "source": [
    "# Embedding Layer, LSTM or biLSTM, Dense, softmax\n",
    "model = Sequential()\n",
    "model.add(embedd_layer)\n",
    "model.add(Bidirectional(LSTM(100, dropout=0.1,return_state=False), name='bidir'))\n",
    "model.add(Dense(500, activation=tf.keras.activations.relu))\n",
    "model.add(Dense(32, activation='softmax'))\n",
    "model.compile(loss = 'categorical_crossentropy', optimizer = 'adam', metrics = ['accuracy','Precision','Recall'])\n",
    "\n",
    "model.summary()"
   ]
  },
  {
   "cell_type": "code",
   "execution_count": 241,
   "metadata": {
    "colab": {
     "base_uri": "https://localhost:8080/",
     "height": 466
    },
    "id": "b-X6vn6nJGE-",
    "outputId": "ffdeda01-d201-4f66-b253-ee729e42c2eb"
   },
   "outputs": [
    {
     "data": {
      "image/png": "[encoded data removed]",
      "text/plain": [
       "<IPython.core.display.Image object>"
      ]
     },
     "execution_count": 241,
     "metadata": {},
     "output_type": "execute_result"
    }
   ],
   "source": [
    "tf.keras.utils.plot_model(\n",
    "    model, to_file='model.png', show_shapes=False, show_dtype=False,\n",
    "    show_layer_names=True, rankdir='TB', expand_nested=False, dpi=96,\n",
    "    layer_range=None, show_layer_activations=False\n",
    ")"
   ]
  },
  {
   "cell_type": "code",
   "execution_count": 200,
   "metadata": {
    "colab": {
     "base_uri": "https://localhost:8080/"
    },
    "execution": {
     "iopub.status.busy": "2021-12-11T09:31:57.780353Z",
     "iopub.status.idle": "2021-12-11T09:31:57.781254Z",
     "shell.execute_reply": "2021-12-11T09:31:57.781043Z",
     "shell.execute_reply.started": "2021-12-11T09:31:57.781018Z"
    },
    "id": "flQyylNnbHqu",
    "outputId": "1b52eb37-b30e-40af-fbb2-d009330574d6"
   },
   "outputs": [
    {
     "name": "stdout",
     "output_type": "stream",
     "text": [
      "Epoch 1/30\n",
      "9/9 [==============================] - 13s 986ms/step - loss: 3.1902 - accuracy: 0.1600 - precision: 0.0000e+00 - recall: 0.0000e+00 - val_loss: 2.9932 - val_accuracy: 0.1630 - val_precision: 0.0000e+00 - val_recall: 0.0000e+00\n",
      "Epoch 2/30\n",
      "9/9 [==============================] - 7s 819ms/step - loss: 2.8899 - accuracy: 0.2027 - precision: 0.0000e+00 - recall: 0.0000e+00 - val_loss: 2.9177 - val_accuracy: 0.1739 - val_precision: 0.0000e+00 - val_recall: 0.0000e+00\n",
      "Epoch 3/30\n",
      "9/9 [==============================] - 7s 822ms/step - loss: 2.8122 - accuracy: 0.1973 - precision: 0.0000e+00 - recall: 0.0000e+00 - val_loss: 2.8481 - val_accuracy: 0.2210 - val_precision: 0.0000e+00 - val_recall: 0.0000e+00\n",
      "Epoch 4/30\n",
      "9/9 [==============================] - 7s 824ms/step - loss: 2.7379 - accuracy: 0.2273 - precision: 1.0000 - recall: 9.0909e-04 - val_loss: 2.7783 - val_accuracy: 0.1920 - val_precision: 0.0000e+00 - val_recall: 0.0000e+00\n",
      "Epoch 5/30\n",
      "9/9 [==============================] - 7s 822ms/step - loss: 2.6270 - accuracy: 0.2636 - precision: 1.0000 - recall: 9.0909e-04 - val_loss: 2.6729 - val_accuracy: 0.2428 - val_precision: 1.0000 - val_recall: 0.0145\n",
      "Epoch 6/30\n",
      "9/9 [==============================] - 7s 827ms/step - loss: 2.5176 - accuracy: 0.2845 - precision: 1.0000 - recall: 0.0045 - val_loss: 2.5742 - val_accuracy: 0.2790 - val_precision: 0.0000e+00 - val_recall: 0.0000e+00\n",
      "Epoch 7/30\n",
      "9/9 [==============================] - 7s 822ms/step - loss: 2.3980 - accuracy: 0.3136 - precision: 0.8182 - recall: 0.0164 - val_loss: 2.4896 - val_accuracy: 0.2790 - val_precision: 0.8889 - val_recall: 0.0580\n",
      "Epoch 8/30\n",
      "9/9 [==============================] - 7s 818ms/step - loss: 2.2849 - accuracy: 0.3264 - precision: 0.8532 - recall: 0.0845 - val_loss: 2.3802 - val_accuracy: 0.3370 - val_precision: 0.8649 - val_recall: 0.1159\n",
      "Epoch 9/30\n",
      "9/9 [==============================] - 7s 820ms/step - loss: 2.1754 - accuracy: 0.3591 - precision: 0.8121 - recall: 0.1100 - val_loss: 2.3778 - val_accuracy: 0.3514 - val_precision: 0.8333 - val_recall: 0.1087\n",
      "Epoch 10/30\n",
      "9/9 [==============================] - 7s 825ms/step - loss: 2.0542 - accuracy: 0.3955 - precision: 0.8750 - recall: 0.1336 - val_loss: 2.2063 - val_accuracy: 0.3913 - val_precision: 0.7869 - val_recall: 0.1739\n",
      "Epoch 11/30\n",
      "9/9 [==============================] - 7s 824ms/step - loss: 2.0272 - accuracy: 0.4082 - precision: 0.6713 - recall: 0.1764 - val_loss: 2.3115 - val_accuracy: 0.4022 - val_precision: 0.7119 - val_recall: 0.1522\n",
      "Epoch 12/30\n",
      "9/9 [==============================] - 7s 827ms/step - loss: 1.9547 - accuracy: 0.4300 - precision: 0.8139 - recall: 0.1709 - val_loss: 2.2310 - val_accuracy: 0.3949 - val_precision: 0.7222 - val_recall: 0.1884\n",
      "Epoch 13/30\n",
      "9/9 [==============================] - 7s 827ms/step - loss: 1.8190 - accuracy: 0.4818 - precision: 0.8306 - recall: 0.1873 - val_loss: 2.0893 - val_accuracy: 0.4239 - val_precision: 0.7975 - val_recall: 0.2283\n",
      "Epoch 14/30\n",
      "9/9 [==============================] - 7s 826ms/step - loss: 1.6779 - accuracy: 0.5300 - precision: 0.8305 - recall: 0.2627 - val_loss: 2.0036 - val_accuracy: 0.5109 - val_precision: 0.8571 - val_recall: 0.2391\n",
      "Epoch 15/30\n",
      "9/9 [==============================] - 7s 819ms/step - loss: 1.6101 - accuracy: 0.5318 - precision: 0.8610 - recall: 0.2927 - val_loss: 2.0276 - val_accuracy: 0.5000 - val_precision: 0.7708 - val_recall: 0.2681\n",
      "Epoch 16/30\n",
      "9/9 [==============================] - 7s 821ms/step - loss: 1.4856 - accuracy: 0.5945 - precision: 0.8682 - recall: 0.3355 - val_loss: 1.9742 - val_accuracy: 0.4819 - val_precision: 0.6960 - val_recall: 0.3152\n",
      "Epoch 17/30\n",
      "9/9 [==============================] - 7s 832ms/step - loss: 1.4188 - accuracy: 0.5964 - precision: 0.8581 - recall: 0.3573 - val_loss: 1.8837 - val_accuracy: 0.5290 - val_precision: 0.7323 - val_recall: 0.3370\n",
      "Epoch 18/30\n",
      "9/9 [==============================] - 7s 824ms/step - loss: 1.3220 - accuracy: 0.6364 - precision: 0.8607 - recall: 0.4100 - val_loss: 1.8106 - val_accuracy: 0.5580 - val_precision: 0.7710 - val_recall: 0.3659\n",
      "Epoch 19/30\n",
      "9/9 [==============================] - 7s 831ms/step - loss: 1.2559 - accuracy: 0.6473 - precision: 0.8689 - recall: 0.4400 - val_loss: 1.8183 - val_accuracy: 0.5543 - val_precision: 0.7664 - val_recall: 0.3804\n",
      "Epoch 20/30\n",
      "9/9 [==============================] - 7s 833ms/step - loss: 1.1686 - accuracy: 0.6609 - precision: 0.8852 - recall: 0.4555 - val_loss: 1.7724 - val_accuracy: 0.5580 - val_precision: 0.7676 - val_recall: 0.3949\n",
      "Epoch 21/30\n",
      "9/9 [==============================] - 7s 832ms/step - loss: 1.0656 - accuracy: 0.7082 - precision: 0.8906 - recall: 0.5255 - val_loss: 1.7567 - val_accuracy: 0.5471 - val_precision: 0.7727 - val_recall: 0.4312\n",
      "Epoch 22/30\n",
      "9/9 [==============================] - 7s 824ms/step - loss: 1.0382 - accuracy: 0.7000 - precision: 0.9035 - recall: 0.5109 - val_loss: 1.7124 - val_accuracy: 0.5833 - val_precision: 0.7607 - val_recall: 0.4493\n",
      "Epoch 23/30\n",
      "9/9 [==============================] - 7s 820ms/step - loss: 0.9916 - accuracy: 0.7327 - precision: 0.8906 - recall: 0.5627 - val_loss: 1.6700 - val_accuracy: 0.5797 - val_precision: 0.8062 - val_recall: 0.4674\n",
      "Epoch 24/30\n",
      "9/9 [==============================] - 7s 831ms/step - loss: 0.9098 - accuracy: 0.7545 - precision: 0.8917 - recall: 0.5991 - val_loss: 1.7134 - val_accuracy: 0.5833 - val_precision: 0.7416 - val_recall: 0.4783\n",
      "Epoch 25/30\n",
      "9/9 [==============================] - 7s 833ms/step - loss: 0.8795 - accuracy: 0.7545 - precision: 0.8821 - recall: 0.6055 - val_loss: 1.6822 - val_accuracy: 0.6051 - val_precision: 0.7543 - val_recall: 0.4783\n",
      "Epoch 26/30\n",
      "9/9 [==============================] - 7s 826ms/step - loss: 0.8179 - accuracy: 0.7764 - precision: 0.9331 - recall: 0.6336 - val_loss: 1.6131 - val_accuracy: 0.6630 - val_precision: 0.7892 - val_recall: 0.5290\n",
      "Epoch 27/30\n",
      "9/9 [==============================] - 7s 819ms/step - loss: 0.7600 - accuracy: 0.7873 - precision: 0.9179 - recall: 0.6709 - val_loss: 1.6108 - val_accuracy: 0.6159 - val_precision: 0.7436 - val_recall: 0.5254\n",
      "Epoch 28/30\n",
      "9/9 [==============================] - 7s 819ms/step - loss: 0.7254 - accuracy: 0.7900 - precision: 0.9223 - recall: 0.6691 - val_loss: 1.5639 - val_accuracy: 0.6232 - val_precision: 0.7979 - val_recall: 0.5580\n",
      "Epoch 29/30\n",
      "9/9 [==============================] - 7s 828ms/step - loss: 0.6878 - accuracy: 0.8182 - precision: 0.9287 - recall: 0.6982 - val_loss: 1.6226 - val_accuracy: 0.6341 - val_precision: 0.7938 - val_recall: 0.5580\n",
      "Epoch 30/30\n",
      "9/9 [==============================] - 7s 825ms/step - loss: 0.6373 - accuracy: 0.8400 - precision: 0.9315 - recall: 0.7291 - val_loss: 1.5132 - val_accuracy: 0.6558 - val_precision: 0.8010 - val_recall: 0.5978\n"
     ]
    }
   ],
   "source": [
    "#history = LSTM_model.fit(x_train, y_train, validation_data=(x_test, y_test), batch_size=128, epochs=50, verbose=1)\n",
    "hist = model.fit(x_train, y_train, validation_data=(x_test, y_test), batch_size=128, epochs=30, verbose=1)"
   ]
  },
  {
   "cell_type": "markdown",
   "metadata": {
    "id": "ZFi8vcqiv2aE"
   },
   "source": [
    "## Model Performance"
   ]
  },
  {
   "cell_type": "code",
   "execution_count": 201,
   "metadata": {
    "_kg_hide-input": true,
    "execution": {
     "iopub.status.busy": "2021-12-11T09:31:57.784134Z",
     "iopub.status.idle": "2021-12-11T09:31:57.784562Z",
     "shell.execute_reply": "2021-12-11T09:31:57.784336Z",
     "shell.execute_reply.started": "2021-12-11T09:31:57.784315Z"
    },
    "id": "dR1tcek6bHqv"
   },
   "outputs": [],
   "source": [
    "history_df = pd.DataFrame(hist.history)\n",
    "history_df['f1_score'] = (2 * history_df['precision']*history_df['recall'])/(history_df['precision']+history_df['recall'])\n",
    "history_df['val_f1_score'] = (2 * history_df['val_precision']*history_df['val_recall'])/(history_df['val_precision']+history_df['val_recall'])"
   ]
  },
  {
   "cell_type": "code",
   "execution_count": 202,
   "metadata": {
    "colab": {
     "base_uri": "https://localhost:8080/",
     "height": 295
    },
    "execution": {
     "iopub.status.busy": "2021-12-11T09:31:57.785846Z",
     "iopub.status.idle": "2021-12-11T09:31:57.786241Z",
     "shell.execute_reply": "2021-12-11T09:31:57.786047Z",
     "shell.execute_reply.started": "2021-12-11T09:31:57.786025Z"
    },
    "id": "bwtSmUktbHqw",
    "outputId": "756d0f4f-c01d-4f96-8116-ae6d9add6d6c"
   },
   "outputs": [
    {
     "data": {
      "image/png": "[encoded data removed]",
      "text/plain": [
       "<Figure size 432x288 with 1 Axes>"
      ]
     },
     "metadata": {
      "needs_background": "light"
     },
     "output_type": "display_data"
    }
   ],
   "source": [
    "plt.plot(hist.history['loss'], label='training data')\n",
    "plt.plot(hist.history['val_loss'], label='validation data')\n",
    "plt.title('Categorical Crossentropy Loss Plot')\n",
    "plt.ylabel('loss value')\n",
    "plt.xlabel('No. of epoch')\n",
    "plt.legend(loc=\"lower right\")\n",
    "plt.show()"
   ]
  },
  {
   "cell_type": "code",
   "execution_count": 203,
   "metadata": {
    "colab": {
     "base_uri": "https://localhost:8080/",
     "height": 729
    },
    "execution": {
     "iopub.status.busy": "2021-12-11T09:31:57.787578Z",
     "iopub.status.idle": "2021-12-11T09:31:57.787976Z",
     "shell.execute_reply": "2021-12-11T09:31:57.787780Z",
     "shell.execute_reply.started": "2021-12-11T09:31:57.787758Z"
    },
    "id": "Ts1-5afGbHqw",
    "outputId": "c5631d9e-536a-42d3-bfa5-4b2badf29318"
   },
   "outputs": [
    {
     "data": {
      "image/png": "[encoded data removed]",
      "text/plain": [
       "<Figure size 1080x720 with 4 Axes>"
      ]
     },
     "metadata": {
      "needs_background": "light"
     },
     "output_type": "display_data"
    }
   ],
   "source": [
    "plt.subplots(figsize=(15,10))\n",
    "ax = plt.subplot(2,2,1)\n",
    "plt.plot(hist.history['accuracy'], label='training_accuracy')\n",
    "plt.plot(hist.history['val_accuracy'], label='test_accuracy')\n",
    "plt.title('Accuracy Plot')\n",
    "plt.ylabel('accuracy value')\n",
    "plt.xlabel('No. of epoch')\n",
    "plt.legend(loc=\"lower right\")\n",
    "\n",
    "ax = plt.subplot(2,2,2)\n",
    "plt.plot(hist.history['loss'], label='training_loss')\n",
    "plt.plot(hist.history['val_loss'], label='test_loss')\n",
    "plt.title('Loss Plot')\n",
    "plt.ylabel('loss value')\n",
    "plt.xlabel('No. of epoch')\n",
    "plt.legend(loc=\"lower right\")\n",
    "\n",
    "ax = plt.subplot(2,2,3)\n",
    "plt.plot(hist.history['recall'], label='training_recall')\n",
    "plt.plot(hist.history['val_recall'], label='test_recall')\n",
    "plt.title('Recall Plot')\n",
    "plt.ylabel('recall value')\n",
    "plt.xlabel('No. of epoch')\n",
    "plt.legend(loc=\"lower right\")\n",
    "\n",
    "ax = plt.subplot(2,2,4)\n",
    "plt.plot(history_df['f1_score'], label='training_f1')\n",
    "plt.plot(history_df['val_f1_score'], label='test_f1')\n",
    "plt.title('F1 Score Plot')\n",
    "plt.ylabel('f1 score value')\n",
    "plt.xlabel('No. of epoch')\n",
    "plt.legend(loc=\"lower right\")\n",
    "\n",
    "plt.tight_layout()\n",
    "plt.show()"
   ]
  },
  {
   "cell_type": "code",
   "execution_count": 203,
   "metadata": {
    "id": "LBprGBfhw9ks"
   },
   "outputs": [],
   "source": []
  },
  {
   "cell_type": "markdown",
   "metadata": {
    "id": "YbP3LjD4wES0"
   },
   "source": [
    "## Prediction"
   ]
  },
  {
   "cell_type": "markdown",
   "metadata": {
    "id": "Z6tiagbqbHqx"
   },
   "source": [
    "Below, a predict function is defined that will take as input natural language text and try to classify it into the categories of mental health issues defined from the dataset."
   ]
  },
  {
   "cell_type": "code",
   "execution_count": 214,
   "metadata": {
    "id": "Uw1eIn7EFLt2"
   },
   "outputs": [],
   "source": [
    "model = tf.keras.models.load_model('/content/Final_LSTM_model.h5')"
   ]
  },
  {
   "cell_type": "code",
   "execution_count": 215,
   "metadata": {
    "execution": {
     "iopub.execute_input": "2021-12-11T09:35:29.589470Z",
     "iopub.status.busy": "2021-12-11T09:35:29.589141Z",
     "iopub.status.idle": "2021-12-11T09:35:29.599894Z",
     "shell.execute_reply": "2021-12-11T09:35:29.599159Z",
     "shell.execute_reply.started": "2021-12-11T09:35:29.589434Z"
    },
    "id": "HXKjAM-pbHqy"
   },
   "outputs": [],
   "source": [
    "def predict(text):\n",
    "    processed = preprocess_text(text)\n",
    "    text_no_stops = [word for word in processed if word not in stop_words]\n",
    "    tokenized = tokenizer.texts_to_sequences( text_no_stops )\n",
    "    padded = preprocessing.sequence.pad_sequences( tokenized , maxlen=max_input_length , padding='post' )\n",
    "    input_data = np.array( padded )\n",
    "    output = model.predict(input_data)\n",
    "    index = np.argmax(output[0])\n",
    "    return (targetdf.columns[index])"
   ]
  },
  {
   "cell_type": "code",
   "execution_count": 235,
   "metadata": {
    "id": "V1XBI-fhHl1K"
   },
   "outputs": [],
   "source": [
    "sent = ['I break out in cold sweat. I have panic attaks and bad dreams at night.',\n",
    "        'I am constantly worried about my work future.',\n",
    "        'I am very sad and depressed. I want to commit suicide.',\n",
    "        'My husband and I have constant arguments. I want to get a divorce',\n",
    "        'I am very angry all the time. I smash things in anger']"
   ]
  },
  {
   "cell_type": "code",
   "execution_count": 236,
   "metadata": {
    "colab": {
     "base_uri": "https://localhost:8080/"
    },
    "execution": {
     "iopub.execute_input": "2021-12-11T09:35:30.568698Z",
     "iopub.status.busy": "2021-12-11T09:35:30.567967Z",
     "iopub.status.idle": "2021-12-11T09:35:30.624762Z",
     "shell.execute_reply": "2021-12-11T09:35:30.623796Z",
     "shell.execute_reply.started": "2021-12-11T09:35:30.568660Z"
    },
    "id": "qvShTZfObHqy",
    "outputId": "d04222c7-7387-4c9a-fd86-8d4d68bdb701"
   },
   "outputs": [
    {
     "name": "stdout",
     "output_type": "stream",
     "text": [
      "Sleep Improvement\n",
      "Stress\n",
      "Depression\n",
      "Marriage\n",
      "Anger Management\n"
     ]
    }
   ],
   "source": [
    "for i in sent:\n",
    "    print(predict(i))"
   ]
  },
  {
   "cell_type": "code",
   "execution_count": 219,
   "metadata": {
    "execution": {
     "iopub.status.busy": "2021-12-11T09:31:57.792630Z",
     "iopub.status.idle": "2021-12-11T09:31:57.793028Z",
     "shell.execute_reply": "2021-12-11T09:31:57.792833Z",
     "shell.execute_reply.started": "2021-12-11T09:31:57.792810Z"
    },
    "id": "FsgEH9RrbHqz"
   },
   "outputs": [],
   "source": [
    "pred = []\n",
    "for index,rows in counseldf.iterrows():\n",
    "    pred.append(predict(rows['questionText']))"
   ]
  },
  {
   "cell_type": "code",
   "execution_count": 220,
   "metadata": {
    "execution": {
     "iopub.status.busy": "2021-12-11T09:31:57.794305Z",
     "iopub.status.idle": "2021-12-11T09:31:57.794748Z",
     "shell.execute_reply": "2021-12-11T09:31:57.794541Z",
     "shell.execute_reply.started": "2021-12-11T09:31:57.794518Z"
    },
    "id": "TioY0cmibHqz"
   },
   "outputs": [],
   "source": [
    "counseldf['predict'] = pred"
   ]
  },
  {
   "cell_type": "code",
   "execution_count": 221,
   "metadata": {
    "colab": {
     "base_uri": "https://localhost:8080/",
     "height": 206
    },
    "execution": {
     "iopub.status.busy": "2021-12-11T09:31:57.796014Z",
     "iopub.status.idle": "2021-12-11T09:31:57.796411Z",
     "shell.execute_reply": "2021-12-11T09:31:57.796216Z",
     "shell.execute_reply.started": "2021-12-11T09:31:57.796194Z"
    },
    "id": "lGS6Zq-wbHq0",
    "outputId": "9ab0376d-9b17-4cbc-eb0a-bb3561439da0"
   },
   "outputs": [
    {
     "data": {
      "text/html": [
       "<div>\n",
       "<style scoped>\n",
       "    .dataframe tbody tr th:only-of-type {\n",
       "        vertical-align: middle;\n",
       "    }\n",
       "\n",
       "    .dataframe tbody tr th {\n",
       "        vertical-align: top;\n",
       "    }\n",
       "\n",
       "    .dataframe thead th {\n",
       "        text-align: right;\n",
       "    }\n",
       "</style>\n",
       "<table border=\"1\" class=\"dataframe\">\n",
       "  <thead>\n",
       "    <tr style=\"text-align: right;\">\n",
       "      <th></th>\n",
       "      <th>questionText</th>\n",
       "      <th>topics</th>\n",
       "      <th>predict</th>\n",
       "    </tr>\n",
       "  </thead>\n",
       "  <tbody>\n",
       "    <tr>\n",
       "      <th>0</th>\n",
       "      <td>My wife and mother are having tense disagreeme...</td>\n",
       "      <td>Family Conflict</td>\n",
       "      <td>Marriage</td>\n",
       "    </tr>\n",
       "    <tr>\n",
       "      <th>1</th>\n",
       "      <td>I'm planning to have baby, so I have to quit s...</td>\n",
       "      <td>Substance Abuse</td>\n",
       "      <td>Substance Abuse</td>\n",
       "    </tr>\n",
       "    <tr>\n",
       "      <th>2</th>\n",
       "      <td>I have secrets in my mind, and I don't know wh...</td>\n",
       "      <td>Family Conflict</td>\n",
       "      <td>Social Relationships</td>\n",
       "    </tr>\n",
       "    <tr>\n",
       "      <th>3</th>\n",
       "      <td>I am extremely possessive in my relationships ...</td>\n",
       "      <td>Behavioral Change</td>\n",
       "      <td>Behavioral Change</td>\n",
       "    </tr>\n",
       "    <tr>\n",
       "      <th>4</th>\n",
       "      <td>I had a head injury a few years ago and my min...</td>\n",
       "      <td>Anxiety</td>\n",
       "      <td>Behavioral Change</td>\n",
       "    </tr>\n",
       "  </tbody>\n",
       "</table>\n",
       "</div>"
      ],
      "text/plain": [
       "                                        questionText  ...               predict\n",
       "0  My wife and mother are having tense disagreeme...  ...              Marriage\n",
       "1  I'm planning to have baby, so I have to quit s...  ...       Substance Abuse\n",
       "2  I have secrets in my mind, and I don't know wh...  ...  Social Relationships\n",
       "3  I am extremely possessive in my relationships ...  ...     Behavioral Change\n",
       "4  I had a head injury a few years ago and my min...  ...     Behavioral Change\n",
       "\n",
       "[5 rows x 3 columns]"
      ]
     },
     "execution_count": 221,
     "metadata": {},
     "output_type": "execute_result"
    }
   ],
   "source": [
    "counseldf.head()"
   ]
  },
  {
   "cell_type": "code",
   "execution_count": 222,
   "metadata": {
    "colab": {
     "base_uri": "https://localhost:8080/"
    },
    "execution": {
     "iopub.status.busy": "2021-12-11T09:31:57.797735Z",
     "iopub.status.idle": "2021-12-11T09:31:57.798204Z",
     "shell.execute_reply": "2021-12-11T09:31:57.797945Z",
     "shell.execute_reply.started": "2021-12-11T09:31:57.797922Z"
    },
    "id": "Rjw1hDIYbHq1",
    "outputId": "f04a345a-200e-48df-9c9c-4928fd0729ba"
   },
   "outputs": [
    {
     "data": {
      "text/plain": [
       "Relationships                246\n",
       "Anxiety                      178\n",
       "Family Conflict              113\n",
       "Depression                    97\n",
       "Marriage                      89\n",
       "Self-esteem                   64\n",
       "Parenting                     59\n",
       "Trauma                        51\n",
       "Human Sexuality               45\n",
       "Behavioral Change             43\n",
       "Intimacy                      42\n",
       "Relationship Dissolution      42\n",
       "Counseling Fundamentals       39\n",
       "Social Relationships          38\n",
       "Anger Management              31\n",
       "Professional Ethics           28\n",
       "Stress                        24\n",
       "LGBTQ                         24\n",
       "Spirituality                  19\n",
       "Addiction                     14\n",
       "Grief and Loss                14\n",
       "Substance Abuse               14\n",
       "Legal & Regulatory            11\n",
       "Diagnosis                     10\n",
       "Sleep Improvement             10\n",
       "Domestic Violence              9\n",
       "Workplace Relationships        8\n",
       "Eating Disorders               4\n",
       "Children & Adolescents         3\n",
       "Military Issues                3\n",
       "Alzheimer's                    2\n",
       "Career Counseling              2\n",
       "Name: topics, dtype: int64"
      ]
     },
     "execution_count": 222,
     "metadata": {},
     "output_type": "execute_result"
    }
   ],
   "source": [
    "counseldf.topics.value_counts()"
   ]
  },
  {
   "cell_type": "code",
   "execution_count": 223,
   "metadata": {
    "colab": {
     "base_uri": "https://localhost:8080/"
    },
    "execution": {
     "iopub.status.busy": "2021-12-11T09:31:57.799325Z",
     "iopub.status.idle": "2021-12-11T09:31:57.800006Z",
     "shell.execute_reply": "2021-12-11T09:31:57.799801Z",
     "shell.execute_reply.started": "2021-12-11T09:31:57.799777Z"
    },
    "id": "-kaKnJsgbHq1",
    "outputId": "5310766d-38a8-4207-f839-fbca759599b0"
   },
   "outputs": [
    {
     "data": {
      "text/plain": [
       "Relationships                194\n",
       "Social Relationships         172\n",
       "Anxiety                       97\n",
       "Counseling Fundamentals       96\n",
       "Marriage                      91\n",
       "Parenting                     87\n",
       "Self-esteem                   76\n",
       "Behavioral Change             68\n",
       "Sleep Improvement             68\n",
       "LGBTQ                         63\n",
       "Spirituality                  63\n",
       "Human Sexuality               41\n",
       "Stress                        35\n",
       "Grief and Loss                31\n",
       "Depression                    29\n",
       "Trauma                        25\n",
       "Anger Management              23\n",
       "Relationship Dissolution      20\n",
       "Diagnosis                     19\n",
       "Career Counseling             16\n",
       "Family Conflict               15\n",
       "Domestic Violence             13\n",
       "Substance Abuse                7\n",
       "Addiction                      6\n",
       "Professional Ethics            6\n",
       "Intimacy                       6\n",
       "Eating Disorders               3\n",
       "Workplace Relationships        2\n",
       "Children & Adolescents         2\n",
       "Legal & Regulatory             1\n",
       "Military Issues                1\n",
       "Name: predict, dtype: int64"
      ]
     },
     "execution_count": 223,
     "metadata": {},
     "output_type": "execute_result"
    }
   ],
   "source": [
    "counseldf.predict.value_counts()"
   ]
  },
  {
   "cell_type": "code",
   "execution_count": 153,
   "metadata": {
    "execution": {
     "iopub.status.busy": "2021-12-11T09:31:57.801486Z",
     "iopub.status.idle": "2021-12-11T09:31:57.801889Z",
     "shell.execute_reply": "2021-12-11T09:31:57.801696Z",
     "shell.execute_reply.started": "2021-12-11T09:31:57.801675Z"
    },
    "id": "pZfJdMZLbHq2"
   },
   "outputs": [],
   "source": [
    "model.save('glove_model2.h5')"
   ]
  },
  {
   "cell_type": "markdown",
   "metadata": {
    "id": "ajISf_XmbHq2"
   },
   "source": [
    "We saved the word2vec model which was trained for 30 epochs"
   ]
  },
  {
   "cell_type": "code",
   "execution_count": 238,
   "metadata": {
    "colab": {
     "base_uri": "https://localhost:8080/"
    },
    "id": "SIDc_pk8bHrI",
    "outputId": "9250cd54-0fec-4e4a-9e82-c4a97a6b7f3a"
   },
   "outputs": [
    {
     "name": "stdout",
     "output_type": "stream",
     "text": [
      "                           precision    recall  f1-score   support\n",
      "\n",
      "                Addiction       0.00      0.00      0.00        14\n",
      "              Alzheimer's       0.00      0.00      0.00         2\n",
      "         Anger Management       0.17      0.13      0.15        31\n",
      "                  Anxiety       0.47      0.26      0.33       178\n",
      "        Behavioral Change       0.04      0.07      0.05        43\n",
      "        Career Counseling       0.00      0.00      0.00         2\n",
      "   Children & Adolescents       0.00      0.00      0.00         3\n",
      " Counseling Fundamentals        0.27      0.67      0.39        39\n",
      "               Depression       0.34      0.10      0.16        97\n",
      "                Diagnosis       0.42      0.80      0.55        10\n",
      "        Domestic Violence       0.31      0.44      0.36         9\n",
      "         Eating Disorders       0.67      0.50      0.57         4\n",
      "          Family Conflict       0.47      0.06      0.11       113\n",
      "           Grief and Loss       0.00      0.00      0.00        14\n",
      "          Human Sexuality       0.07      0.07      0.07        45\n",
      "                 Intimacy       0.00      0.00      0.00        42\n",
      "                    LGBTQ       0.06      0.17      0.09        24\n",
      "       Legal & Regulatory       0.00      0.00      0.00        11\n",
      "                 Marriage       0.45      0.46      0.46        89\n",
      "         Military Issues        0.00      0.00      0.00         3\n",
      "                Parenting       0.30      0.44      0.36        59\n",
      "      Professional Ethics       0.33      0.07      0.12        28\n",
      "Relationship Dissolution        0.50      0.24      0.32        42\n",
      "            Relationships       0.45      0.36      0.40       246\n",
      "              Self-esteem       0.12      0.14      0.13        64\n",
      "        Sleep Improvement       0.01      0.10      0.03        10\n",
      "     Social Relationships       0.09      0.39      0.14        38\n",
      "             Spirituality       0.19      0.63      0.29        19\n",
      "                   Stress       0.14      0.21      0.17        24\n",
      "          Substance Abuse       1.00      0.50      0.67        14\n",
      "                   Trauma       0.60      0.29      0.39        51\n",
      "  Workplace Relationships       1.00      0.25      0.40         8\n",
      "\n",
      "                 accuracy                           0.25      1376\n",
      "                macro avg       0.27      0.23      0.21      1376\n",
      "             weighted avg       0.34      0.25      0.26      1376\n",
      "\n"
     ]
    },
    {
     "name": "stderr",
     "output_type": "stream",
     "text": [
      "/usr/local/lib/python3.7/dist-packages/sklearn/metrics/_classification.py:1308: UndefinedMetricWarning: Precision and F-score are ill-defined and being set to 0.0 in labels with no predicted samples. Use `zero_division` parameter to control this behavior.\n",
      "  _warn_prf(average, modifier, msg_start, len(result))\n",
      "/usr/local/lib/python3.7/dist-packages/sklearn/metrics/_classification.py:1308: UndefinedMetricWarning: Precision and F-score are ill-defined and being set to 0.0 in labels with no predicted samples. Use `zero_division` parameter to control this behavior.\n",
      "  _warn_prf(average, modifier, msg_start, len(result))\n",
      "/usr/local/lib/python3.7/dist-packages/sklearn/metrics/_classification.py:1308: UndefinedMetricWarning: Precision and F-score are ill-defined and being set to 0.0 in labels with no predicted samples. Use `zero_division` parameter to control this behavior.\n",
      "  _warn_prf(average, modifier, msg_start, len(result))\n"
     ]
    }
   ],
   "source": [
    "from sklearn.metrics import classification_report\n",
    "print(classification_report(counseldf.topics, counseldf.predict))"
   ]
  }
 ],
 "metadata": {
  "colab": {
   "name": "Final W2V model.ipynb",
   "provenance": []
  },
  "kernelspec": {
   "display_name": "Python 3",
   "language": "python",
   "name": "python3"
  },
  "language_info": {
   "codemirror_mode": {
    "name": "ipython",
    "version": 3
   },
   "file_extension": ".py",
   "mimetype": "text/x-python",
   "name": "python",
   "nbconvert_exporter": "python",
   "pygments_lexer": "ipython3",
   "version": "3.8.8"
  }
 },
 "nbformat": 4,
 "nbformat_minor": 1
}
